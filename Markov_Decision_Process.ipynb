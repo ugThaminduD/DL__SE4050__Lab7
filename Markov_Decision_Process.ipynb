{
  "cells": [
    {
      "cell_type": "markdown",
      "metadata": {
        "id": "view-in-github",
        "colab_type": "text"
      },
      "source": [
        "<a href=\"https://colab.research.google.com/github/ugThaminduD/DL__SE4050__Lab7/blob/main/Markov_Decision_Process.ipynb\" target=\"_parent\"><img src=\"https://colab.research.google.com/assets/colab-badge.svg\" alt=\"Open In Colab\"/></a>"
      ]
    },
    {
      "cell_type": "markdown",
      "metadata": {
        "id": "-LMwDZHlsAvn"
      },
      "source": [
        "# Markov Decision Process (MDP)"
      ]
    },
    {
      "cell_type": "markdown",
      "metadata": {
        "id": "rK2etKh-sAvo"
      },
      "source": [
        "### Ransalu Senanayake"
      ]
    },
    {
      "cell_type": "code",
      "execution_count": 13,
      "metadata": {
        "id": "Tlr-PNcssAvp"
      },
      "outputs": [],
      "source": [
        "import copy\n",
        "import timeit\n",
        "import numpy as np\n",
        "import matplotlib.pyplot as pl\n",
        "%matplotlib inline\n",
        "from ipywidgets import interactive\n",
        "import ipywidgets as widgets"
      ]
    },
    {
      "cell_type": "markdown",
      "metadata": {
        "id": "_f6VSXlQsAvs"
      },
      "source": [
        "Create the following grid world.\n",
        "\n",
        "**States:** A 10x10 grid\n",
        "\n",
        "**Actions:** Up, Down, Left, Right\n",
        "\n",
        "**Tranistion probabilities:**\n",
        "* 0.7 in the direction of action\n",
        "* 0.1 in the three other directions\n",
        "* The robot bounces back to the same state near edges\n",
        "\n",
        "**Rewards:**\n",
        "* (7,8) has a reward +10\n",
        "* (2,7) has a reward +3\n",
        "* (4,3) has a reward -5\n",
        "* (7,3) has a reward -10\n",
        "* No reward in other states\n",
        "\n",
        "This example is based on Decision Making Under Uncertainty by M.J. Kochenderfer."
      ]
    },
    {
      "cell_type": "code",
      "execution_count": 14,
      "metadata": {
        "id": "sbT7VOEQsAvt"
      },
      "outputs": [],
      "source": [
        "#Let's define MDP paras\n",
        "def createGrid10World():\n",
        "    def xy2s(y, x):\n",
        "        x = max(x, 0)\n",
        "        y = max(y, 0)\n",
        "        x = min(x, 9)\n",
        "        y = min(y, 9)\n",
        "        out = np.ravel_multi_index(np.array([x,y]), (10,10))\n",
        "        return out\n",
        "\n",
        "    def s2xy(s):\n",
        "        x, y = np.unravel_index(s, (10,10))\n",
        "        return y, x\n",
        "\n",
        "    def gridPlot(ax, im, title='', cmap='Blues'):\n",
        "        pl.imshow(im, interpolation='none', cmap=cmap, origin='lower')\n",
        "        pl.colorbar()\n",
        "        ax.set_xticks(np.arange(0, 10, 1));\n",
        "        ax.set_yticks(np.arange(0, 10, 1));\n",
        "        ax.set_xticklabels(np.arange(0, 10, 1));\n",
        "        ax.set_yticklabels(np.arange(0, 10, 1));\n",
        "        ax.set_xticks(np.arange(-.5, 10, 1), minor=True);\n",
        "        ax.set_yticks(np.arange(-.5, 10, 1), minor=True);\n",
        "        ax.grid(which='minor', color='w', linestyle='-', linewidth=1)\n",
        "        pl.title(title);\n",
        "        return\n",
        "\n",
        "    A = ['left', 'right', 'up', 'down']\n",
        "    S = np.arange(100)\n",
        "    T = np.zeros((len(S), len(A), len(S)))\n",
        "    R = np.zeros((len(S), len(A)))\n",
        "    for s in S:\n",
        "        x, y = s2xy(s)\n",
        "        if x == 2 and y == 7:\n",
        "            R[s, :] = 3\n",
        "        elif x == 7 and y == 8:\n",
        "            R[s, :] = 10\n",
        "        else:\n",
        "            if x == 7 and y == 3:\n",
        "                R[s, :] = -10\n",
        "            elif x == 4 and y == 3:\n",
        "                R[s, :] = -5\n",
        "            elif x == 0:\n",
        "                if y == 0 or y == 9:\n",
        "                    R[s, :] = -0.2\n",
        "                else:\n",
        "                    R[s, :] = -0.1\n",
        "                R[s, 0] = -0.7\n",
        "            elif x == 9:\n",
        "                if y == 0 or y == 9:\n",
        "                    R[s, :] = -0.2\n",
        "                else:\n",
        "                    R[s, :] = -0.1\n",
        "                R[s, 1] = -0.7\n",
        "            elif y == 0:\n",
        "                if x == 0 or x == 9:\n",
        "                    R[s, :] = -0.2\n",
        "                else:\n",
        "                    R[s, :] = -0.1\n",
        "                R[s, 3] = -0.7\n",
        "            elif y == 9:\n",
        "                if x == 0 or x == 9:\n",
        "                    R[s, :] = -0.2\n",
        "                else:\n",
        "                    R[s, :] = -0.1\n",
        "                R[s, 2] = -0.7\n",
        "\n",
        "            for a in A:\n",
        "                if a == 'left':\n",
        "                    T[s, 0, xy2s(x - 1, y)] += 0.7\n",
        "                    T[s, 0, xy2s(x + 1, y)] += 0.1\n",
        "                    T[s, 0, xy2s(x, y - 1)] += 0.1\n",
        "                    T[s, 0, xy2s(x, y + 1)] += 0.1\n",
        "                elif a == 'right':\n",
        "                    T[s, 1, xy2s(x + 1, y)] += 0.7\n",
        "                    T[s, 1, xy2s(x - 1, y)] += 0.1\n",
        "                    T[s, 1, xy2s(x, y - 1)] += 0.1\n",
        "                    T[s, 1, xy2s(x, y + 1)] += 0.1\n",
        "                elif a == 'up':\n",
        "                    T[s, 2, xy2s(x, y + 1)] += 0.7\n",
        "                    T[s, 2, xy2s(x, y - 1)] += 0.1\n",
        "                    T[s, 2, xy2s(x - 1, y)] += 0.1\n",
        "                    T[s, 2, xy2s(x + 1, y)] += 0.1\n",
        "                elif a == 'down':\n",
        "                    T[s, 3, xy2s(x, y - 1)] += 0.7\n",
        "                    T[s, 3, xy2s(x, y + 1)] += 0.1\n",
        "                    T[s, 3, xy2s(x - 1, y)] += 0.1\n",
        "                    T[s, 3, xy2s(x + 1, y)] += 0.1\n",
        "\n",
        "    for a, c_x, c_y in [(0,0,0), (0,0,9),(1,9,0),(1,9,9),(2,0,9),(2,9,9),(3,0,0),(3,9,0)]:\n",
        "        R[xy2s(c_x,c_y),a] = -0.8\n",
        "\n",
        "    discount = 0.9\n",
        "\n",
        "    nextStates = {}\n",
        "    for si in range(len(S)):\n",
        "        for ai in range(len(A)):\n",
        "            nextStates[(si,ai)] = np.where((T[si, ai, :] != 0) == True)[0]\n",
        "\n",
        "    return {'S':S, 'A':A, 'T':T, 'R':R, 'discount':discount, 'nextStates':nextStates, 'gridPlot':gridPlot, 'xy2s':xy2s, 's2xy':s2xy}"
      ]
    },
    {
      "cell_type": "code",
      "execution_count": 15,
      "metadata": {
        "id": "BylriiRqsAvv"
      },
      "outputs": [],
      "source": [
        "class MDP():\n",
        "    def __init__(self):\n",
        "        pass\n",
        "\n",
        "    def inbuilt_init(self, mdp_dict):\n",
        "        self.S = mdp_dict['S']\n",
        "        self.A = mdp_dict['A']\n",
        "        self.T = mdp_dict['T']\n",
        "        self.R = mdp_dict['R']\n",
        "        self.discount = mdp_dict['discount']\n",
        "        self.nextStates = mdp_dict['nextStates']\n",
        "        self.gridPlot = mdp_dict['gridPlot']\n",
        "        self.xy2s = mdp_dict['xy2s']\n",
        "        self.s2xy = mdp_dict['s2xy']"
      ]
    },
    {
      "cell_type": "code",
      "execution_count": 16,
      "metadata": {
        "colab": {
          "base_uri": "https://localhost:8080/",
          "height": 1000
        },
        "id": "QGcCuJpasAvy",
        "outputId": "2d4b1c17-e0b7-4d09-e8a8-29a7f872e7bf"
      },
      "outputs": [
        {
          "output_type": "display_data",
          "data": {
            "text/plain": [
              "<Figure size 300x300 with 2 Axes>"
            ],
            "image/png": "[encoded data removed]"
          },
          "metadata": {}
        },
        {
          "output_type": "display_data",
          "data": {
            "text/plain": [
              "<Figure size 1500x300 with 8 Axes>"
            ],
            "image/png": "[encoded data removed]"
          },
          "metadata": {}
        },
        {
          "output_type": "display_data",
          "data": {
            "text/plain": [
              "<Figure size 1500x300 with 8 Axes>"
            ],
            "image/png": "[encoded data removed]"
          },
          "metadata": {}
        },
        {
          "output_type": "display_data",
          "data": {
            "text/plain": [
              "<Figure size 1500x300 with 8 Axes>"
            ],
            "image/png": "[encoded data removed]"
          },
          "metadata": {}
        }
      ],
      "source": [
        "#Define the MDP\n",
        "mdp = MDP()\n",
        "mdp.inbuilt_init(mdp_dict=createGrid10World())\n",
        "\n",
        "#Plot states\n",
        "pl.figure(figsize=(3,3))\n",
        "mdp.gridPlot(ax=pl.gca(), im=mdp.S.reshape((10,10)), title='States', cmap='Greys')\n",
        "\n",
        "#Plot rewards\n",
        "pl.figure(figsize=(15,3))\n",
        "pl.suptitle('Rewards', fontsize=15)\n",
        "for a in range(4):\n",
        "    pl.subplot(1,4,a+1)\n",
        "    mdp.gridPlot(ax=pl.gca(), im=mdp.R[:,a].reshape((10,10)), title='a='+mdp.A[a], cmap='jet')\n",
        "pl.show()\n",
        "\n",
        "#Plot rewards\n",
        "pl.figure(figsize=(15,3))\n",
        "pl.suptitle('Rewards - clipped larger +ve values for visualizing the edges', fontsize=15)\n",
        "for a in range(4):\n",
        "    pl.subplot(1,4,a+1)\n",
        "    mdp.gridPlot(ax=pl.gca(), im=np.clip(mdp.R[:,a].reshape((10,10)), -1, -0.5), title='a='+mdp.A[a], cmap='jet')\n",
        "pl.show()\n",
        "\n",
        "#Plot rewards\n",
        "s0_x, s0_y = 3, 5\n",
        "s0 = mdp.xy2s(s0_x, s0_y)\n",
        "pl.figure(figsize=(15,3))\n",
        "pl.suptitle('Transition probabilities T(s1|s0=({},{}),a)'.format(s0_x, s0_y), fontsize=15)\n",
        "for a in range(4):\n",
        "    pl.subplot(1,4,a+1)\n",
        "    mdp.gridPlot(ax=pl.gca(), im=mdp.T[s0,a,:].reshape((10,10)), title='a='+mdp.A[a], cmap='Blues')\n",
        "pl.show()"
      ]
    },
    {
      "cell_type": "code",
      "execution_count": 17,
      "metadata": {
        "colab": {
          "base_uri": "https://localhost:8080/",
          "height": 611,
          "referenced_widgets": [
            "94bba380ad57445084872d430f9c36f8",
            "9c1dd63fa85342609be28dd80c95005c",
            "731f6857ad4443e1836d2488a0c59600",
            "294fe06e5f354246a2b8dc4752a9443d",
            "c7068fa0aba24285bf984dab670b5efc",
            "7ef95e9365804708b053eb9ca0def9cd",
            "957da110454143769a6a78fa21673345",
            "1a169df28599403dbff4cba52cc106d6",
            "5eb4447a03a6424bb360479a4cbdd063",
            "8f1aaceda66c41d9bae489755eaa06cb",
            "424e0ec02b334e5caacc75da949611d3",
            "e03c9a4136ba46868d2e650baeb35d90",
            "b73ff7274ccb4339b869583f278765ca"
          ]
        },
        "id": "WSh9F6O2sAv1",
        "outputId": "bad58aee-34d6-492a-bfc4-fcf5f902540f"
      },
      "outputs": [
        {
          "output_type": "display_data",
          "data": {
            "text/plain": [
              "interactive(children=(Text(value='4', description='s0_x'), Text(value='5', description='s0_y'), ToggleButtons(…"
            ],
            "application/vnd.jupyter.widget-view+json": {
              "version_major": 2,
              "version_minor": 0,
              "model_id": "94bba380ad57445084872d430f9c36f8"
            }
          },
          "metadata": {}
        }
      ],
      "source": [
        "#An interactive plot of transition probabilities\n",
        "def f(s0_x, s0_y, action):\n",
        "    a = mdp.A.index(action)\n",
        "    s0 = mdp.xy2s(int(s0_x), int(s0_y))\n",
        "    pl.figure(figsize=(6,6))\n",
        "    title = 'Transition probabilities T(s1|s0=({},{}),a={})'.format(int(s0_x),int(s0_y),action)\n",
        "    mdp.gridPlot(ax=pl.gca(), im=mdp.T[s0,a,:].reshape((10,10)), title=title, cmap='Blues')\n",
        "    pl.show()\n",
        "\n",
        "interactive_plot = interactive(f, s0_x='4', s0_y='5', action=widgets.ToggleButtons(options=['left', 'right', 'up', 'down']))\n",
        "interactive_plot"
      ]
    },
    {
      "cell_type": "markdown",
      "metadata": {
        "id": "CRtcTdgOsAv4"
      },
      "source": [
        "### 1. Policy evaluation\n",
        "\n",
        "Computing the utility, U.\n",
        "\n",
        "$U^\\pi_k(s) = R(s, \\pi(s)) + \\gamma \\sum_{s'} T(s' \\mid s, \\pi(s))U^\\pi_{k-1}(s')$"
      ]
    },
    {
      "cell_type": "code",
      "execution_count": 18,
      "metadata": {
        "colab": {
          "base_uri": "https://localhost:8080/",
          "height": 307
        },
        "id": "cT2yS--rsAv4",
        "outputId": "abf972a8-c9b7-4be9-a323-6660ccd919b8"
      },
      "outputs": [
        {
          "output_type": "display_data",
          "data": {
            "text/plain": [
              "<Figure size 1500x300 with 8 Axes>"
            ],
            "image/png": "[encoded data removed]"
          },
          "metadata": {}
        }
      ],
      "source": [
        "def iterativePolicyEvaluation(mdp, policy, numIterations=10):\n",
        "    U = np.zeros(len(mdp.S))\n",
        "    U_old = copy.copy(U)\n",
        "    for t in range(numIterations):\n",
        "        #type your code here ==> ok\n",
        "        for s in range(len(mdp.S)):\n",
        "            a = policy\n",
        "            U[s] = mdp.R[s, a] + mdp.discount * sum([\n",
        "                mdp.T[s, a, s_prime] * U_old[s_prime] for s_prime in mdp.nextStates[(s, a)]\n",
        "            ])\n",
        "        U_old = copy.copy(U)\n",
        "    return U\n",
        "\n",
        "numIterations = 5\n",
        "pl.figure(figsize=(15,3))\n",
        "pl.suptitle('Utilities', fontsize=15)\n",
        "for a in range(4):\n",
        "    pl.subplot(1,4,a+1)\n",
        "    U = iterativePolicyEvaluation(mdp=mdp, policy=a, numIterations=numIterations)\n",
        "    mdp.gridPlot(ax=pl.gca(), im=U.reshape(10,10), title='a='+mdp.A[a], cmap='jet')\n",
        "pl.show()\n",
        "#print(np.round(U.reshape(10,10),3))"
      ]
    },
    {
      "cell_type": "code",
      "execution_count": 19,
      "metadata": {
        "colab": {
          "base_uri": "https://localhost:8080/",
          "height": 347,
          "referenced_widgets": [
            "ec8e30d029194139a9ff23869c1561eb",
            "84ccd739fd1341e9a68c672dd8cab17d",
            "3ae055df414e43d59be7b9f187eedcb4",
            "faced5bec39e4ee7a3781c540478f8d3",
            "2f1236f0a6994dfab935c92d78031894",
            "8d5beaedb929438f969e8b4b2165e739",
            "bd25c19e46a24658949bf6aa37075b07",
            "c6a76aa4a079403391974aeead69c21e",
            "04216d0af4eb487fa86de5c4a723cb73",
            "e8e93696aaa746b8b9d4e7a0b09adfc4"
          ]
        },
        "id": "XcMijKgbsAv7",
        "outputId": "802a478f-de36-4db0-d4e6-50f4a3252262"
      },
      "outputs": [
        {
          "output_type": "display_data",
          "data": {
            "text/plain": [
              "interactive(children=(ToggleButtons(description='action', options=('left', 'right', 'up', 'down'), value='left…"
            ],
            "application/vnd.jupyter.widget-view+json": {
              "version_major": 2,
              "version_minor": 0,
              "model_id": "ec8e30d029194139a9ff23869c1561eb"
            }
          },
          "metadata": {}
        }
      ],
      "source": [
        "def f(action, numIter=1):\n",
        "    U = iterativePolicyEvaluation(mdp, policy=mdp.A.index(action), numIterations=numIter)\n",
        "    pl.figure(figsize=(3,3))\n",
        "    mdp.gridPlot(ax=pl.gca(), im=U.reshape(10,10), title='Utility', cmap='jet')\n",
        "    pl.show()\n",
        "\n",
        "interactive_plot = interactive(f, action=widgets.ToggleButtons(options=['left', 'right', 'up', 'down']),\n",
        "                               numIter=widgets.IntSlider(min=0, max=20, step=1, value=0))\n",
        "interactive_plot"
      ]
    },
    {
      "cell_type": "code",
      "execution_count": 20,
      "metadata": {
        "colab": {
          "base_uri": "https://localhost:8080/",
          "height": 282
        },
        "id": "-L8qvyKAsAv9",
        "outputId": "ede1e047-d32d-4622-9615-4b8e1483450f"
      },
      "outputs": [
        {
          "output_type": "display_data",
          "data": {
            "text/plain": [
              "<Figure size 300x300 with 2 Axes>"
            ],
            "image/png": "[encoded data removed]"
          },
          "metadata": {}
        }
      ],
      "source": [
        "#Value iteration\n",
        "def valueIteration(mdp, numIterations=1):\n",
        "    U = np.zeros(len(mdp.S))\n",
        "    U_old = copy.copy(U)\n",
        "    for t in range(numIterations):\n",
        "        #type your code here  ==> ok\n",
        "        for s in range(len(mdp.S)):\n",
        "            q_sa = []\n",
        "            for a in range(len(mdp.A)):\n",
        "                q_sa.append(mdp.R[s, a] + mdp.discount * sum([\n",
        "                    mdp.T[s, a, s_prime] * U_old[s_prime] for s_prime in mdp.nextStates[(s, a)]\n",
        "                ]))\n",
        "            U[s] = max(q_sa)  # Update utility with best action\n",
        "        U_old = copy.copy(U)\n",
        "    return U\n",
        "\n",
        "def policyExtration(mdp, U):\n",
        "    policy = np.zeros(len(mdp.S))\n",
        "    #type your code here ==> ok\n",
        "    for s in range(len(mdp.S)):\n",
        "        q_sa = []\n",
        "        for a in range(len(mdp.A)):\n",
        "            q_sa.append(mdp.R[s, a] + mdp.discount * sum([\n",
        "                mdp.T[s, a, s_prime] * U[s_prime] for s_prime in mdp.nextStates[(s, a)]\n",
        "            ]))\n",
        "        policy[s] = np.argmax(q_sa)  # Choose action with highest Q-value\n",
        "    return policy\n",
        "    return policy\n",
        "\n",
        "U = valueIteration(mdp, numIterations=2)\n",
        "policy = policyExtration(mdp, U=U)\n",
        "pl.figure(figsize=(3,3))\n",
        "mdp.gridPlot(ax=pl.gca(), im=U.reshape(10,10), title='Utility', cmap='jet')\n",
        "for s in range(100):\n",
        "    x, y = mdp.s2xy(s)\n",
        "    if policy[s] == 0:\n",
        "        m='\\u02C2'\n",
        "    elif policy[s] == 1:\n",
        "        m='\\u02C3'\n",
        "    elif policy[s] == 2:\n",
        "        m='\\u02C4'\n",
        "    elif policy[s] == 3:\n",
        "        m='\\u02C5'\n",
        "    pl.text(x-0.5,y-1,m,color='k',size=20)\n",
        "pl.show()"
      ]
    },
    {
      "cell_type": "code",
      "execution_count": 21,
      "metadata": {
        "colab": {
          "base_uri": "https://localhost:8080/",
          "height": 332,
          "referenced_widgets": [
            "219d330f537f416fb16af99cc1385cdb",
            "9e9eaba827a3400f9fa7f885c59fb751",
            "978a614bc886420fb123f3b541068d25",
            "57b78bf1ee224520af47d76ade1e1996",
            "5014c939fd294e8a95fd5d4a7b6ede0e",
            "adf83f3dfc2a4a55a04be48a4e134f69",
            "edfae0fe7722405cb0808eed6d43c24e"
          ]
        },
        "id": "W7Hvi7YdsAv_",
        "outputId": "f1f748b5-1129-4d42-ac2d-0695ac30cd80"
      },
      "outputs": [
        {
          "output_type": "display_data",
          "data": {
            "text/plain": [
              "interactive(children=(IntSlider(value=0, description='numIter', max=20), Output()), _dom_classes=('widget-inte…"
            ],
            "application/vnd.jupyter.widget-view+json": {
              "version_major": 2,
              "version_minor": 0,
              "model_id": "219d330f537f416fb16af99cc1385cdb"
            }
          },
          "metadata": {}
        }
      ],
      "source": [
        "def f(numIter=1):\n",
        "    start_time = timeit.default_timer()\n",
        "    U = valueIteration(mdp, numIterations=numIter)\n",
        "    policy = policyExtration(mdp, U=U)\n",
        "    elapsed = timeit.default_timer() - start_time\n",
        "    print('time=', np.round(elapsed*1000,2))\n",
        "    pl.figure(figsize=(3,3))\n",
        "    mdp.gridPlot(ax=pl.gca(), im=U.reshape(10,10), title='Utility', cmap='jet')\n",
        "    for s in range(100):\n",
        "        x, y = mdp.s2xy(s)\n",
        "        if policy[s] == 0:\n",
        "            m='\\u02C2'\n",
        "        elif policy[s] == 1:\n",
        "            m='\\u02C3'\n",
        "        elif policy[s] == 2:\n",
        "            m='\\u02C4'\n",
        "        elif policy[s] == 3:\n",
        "            m='\\u02C5'\n",
        "        pl.text(x-0.5,y-1,m,color='k',size=20)\n",
        "    pl.show()\n",
        "\n",
        "interactive_plot = interactive(f, numIter=widgets.IntSlider(min=0, max=20, step=1, value=0))\n",
        "interactive_plot"
      ]
    },
    {
      "cell_type": "markdown",
      "metadata": {
        "id": "6il1i5CesAwB"
      },
      "source": [
        "### 2. Policy iteration\n",
        "\n",
        "Policy evaluation can be used in policy iteration:\n",
        "1. Given the current policy, compute U\n",
        "2. Using U, compute a new policy"
      ]
    },
    {
      "cell_type": "code",
      "execution_count": 22,
      "metadata": {
        "id": "5VzzQB0jsAwC"
      },
      "outputs": [],
      "source": [
        "def policyIteration(mdp, numIterations=1):\n",
        "    U_pi_k = np.zeros(len(mdp.S)) #initial values\n",
        "    pi_k = np.random.randint(low=0,high=4,size=len(mdp.S),dtype=int) #initial policy\n",
        "    pi_kp1 = copy.copy(pi_k)\n",
        "    for t in range(numIterations):\n",
        "        #Policy evaluation: compute U_pi_k\n",
        "          #type your code here ==> ok\n",
        "        U_old = copy.copy(U_pi_k)\n",
        "        for _ in range(10):  # You can adjust the number of inner iterations for evaluation\n",
        "            for s in range(len(mdp.S)):\n",
        "                a = pi_k[s]\n",
        "                U_pi_k[s] = mdp.R[s, a] + mdp.discount * sum([\n",
        "                    mdp.T[s, a, s_prime] * U_old[s_prime] for s_prime in mdp.nextStates[(s, a)]\n",
        "                ])\n",
        "            U_old = copy.copy(U_pi_k)\n",
        "        #Policy improvement\n",
        "          #type your code here ==> ok\n",
        "        for s in range(len(mdp.S)):\n",
        "            q_sa = []\n",
        "            for a in range(len(mdp.A)):\n",
        "                q_sa.append(mdp.R[s, a] + mdp.discount * sum([\n",
        "                    mdp.T[s, a, s_prime] * U_pi_k[s_prime] for s_prime in mdp.nextStates[(s, a)]\n",
        "                ]))\n",
        "            pi_kp1[s] = np.argmax(q_sa)\n",
        "        pi_k = copy.copy(pi_kp1)\n",
        "    return U_pi_k, pi_kp1\n",
        "\n",
        "U_pi_k, pi_kp1 = policyIteration(mdp, numIterations=2)"
      ]
    },
    {
      "cell_type": "code",
      "execution_count": 23,
      "metadata": {
        "id": "lSHVZ0CwsAwE",
        "colab": {
          "base_uri": "https://localhost:8080/",
          "height": 324,
          "referenced_widgets": [
            "03f8cfacb83d44e38ba71e99d6bf6877",
            "2c9026ff666843e2a11c42c43461faa6",
            "5364e43334584ee8a17a93e2e914c962",
            "0035aac3d9d548588ff6fd634227a924",
            "f403cb3f92224ccbb56a4da781c2340b",
            "968042e42ce24bfa8435e72b7f1e56bc",
            "eb4017ab23ac430e9b82372986ce9163"
          ]
        },
        "outputId": "707f3d93-db52-4468-a513-5eb4cc0b31b4"
      },
      "outputs": [
        {
          "output_type": "display_data",
          "data": {
            "text/plain": [
              "interactive(children=(IntSlider(value=0, description='numIter', max=20), Output()), _dom_classes=('widget-inte…"
            ],
            "application/vnd.jupyter.widget-view+json": {
              "version_major": 2,
              "version_minor": 0,
              "model_id": "03f8cfacb83d44e38ba71e99d6bf6877"
            }
          },
          "metadata": {}
        }
      ],
      "source": [
        "def f(numIter=1):\n",
        "    start_time = timeit.default_timer()\n",
        "    # code you want to evaluate\n",
        "    value, policy = policyIteration(mdp, numIterations=numIter)\n",
        "    elapsed = timeit.default_timer() - start_time\n",
        "    print('time=', np.round(elapsed*1000,2))\n",
        "    pl.figure(figsize=(3,3))\n",
        "    mdp.gridPlot(ax=pl.gca(), im=value.reshape(10,10), title='Utility', cmap='jet')\n",
        "    for s in range(100):\n",
        "        x, y = mdp.s2xy(s)\n",
        "        if policy[s] == 0:\n",
        "            m='\\u02C2'\n",
        "        elif policy[s] == 1:\n",
        "            m='\\u02C3'\n",
        "        elif policy[s] == 2:\n",
        "            m='\\u02C4'\n",
        "        elif policy[s] == 3:\n",
        "            m='\\u02C5'\n",
        "        pl.text(x-0.5,y-1,m,color='k',size=20)\n",
        "    pl.show()\n",
        "\n",
        "interactive_plot = interactive(f, numIter=widgets.IntSlider(min=0, max=20, step=1, value=0))\n",
        "interactive_plot"
      ]
    },
    {
      "cell_type": "markdown",
      "source": [
        " # Difference between Model-Based and Model-Free algorithms\n",
        "\n",
        "\n",
        "\n",
        "##   Model-Based Reinforcement Learning\n",
        "* Build  and use model of the environment\n",
        "\n",
        "##   Model-Free Reinforcement Learning\n",
        "\n"
      ],
      "metadata": {
        "id": "vECeoSjcbF2X"
      }
    },
    {
      "cell_type": "markdown",
      "source": [],
      "metadata": {
        "id": "yHQVfd4Bf-e8"
      }
    },
    {
      "cell_type": "code",
      "source": [
        "# !jupyter nbconvert --ClearOutputPreprocessor.enabled=True --to notebook --inplace \"/content/drive/MyDrive/Colab Notebooks/DL Lab 07/Markov_Decision_Process.ipynb\"\n"
      ],
      "metadata": {
        "id": "VsiyBUdcpy9Z"
      },
      "execution_count": 25,
      "outputs": []
    }
  ],
  "metadata": {
    "@webio": {
      "lastCommId": "21E8675012EB469B8DD225E5191E1594",
      "lastKernelId": "ec90fbfa-47cf-4656-a1ce-4ca4670e6701"
    },
    "colab": {
      "provenance": [],
      "toc_visible": true,
      "include_colab_link": true
    },
    "kernelspec": {
      "display_name": "Python 3",
      "language": "python",
      "name": "python3"
    },
    "language_info": {
      "codemirror_mode": {
        "name": "ipython",
        "version": 3
      },
      "file_extension": ".py",
      "mimetype": "text/x-python",
      "name": "python",
      "nbconvert_exporter": "python",
      "pygments_lexer": "ipython3",
      "version": "3.8.8"
    },
    "widgets": {
      "application/vnd.jupyter.widget-state+json": {
        "94bba380ad57445084872d430f9c36f8": {
          "model_module": "@jupyter-widgets/controls",
          "model_name": "VBoxModel",
          "model_module_version": "1.5.0",
          "state": {
            "_dom_classes": [
              "widget-interact"
            ],
            "_model_module": "@jupyter-widgets/controls",
            "_model_module_version": "1.5.0",
            "_model_name": "VBoxModel",
            "_view_count": null,
            "_view_module": "@jupyter-widgets/controls",
            "_view_module_version": "1.5.0",
            "_view_name": "VBoxView",
            "box_style": "",
            "children": [
              "IPY_MODEL_9c1dd63fa85342609be28dd80c95005c",
              "IPY_MODEL_731f6857ad4443e1836d2488a0c59600",
              "IPY_MODEL_294fe06e5f354246a2b8dc4752a9443d",
              "IPY_MODEL_c7068fa0aba24285bf984dab670b5efc"
            ],
            "layout": "IPY_MODEL_7ef95e9365804708b053eb9ca0def9cd"
          }
        },
        "9c1dd63fa85342609be28dd80c95005c": {
          "model_module": "@jupyter-widgets/controls",
          "model_name": "TextModel",
          "model_module_version": "1.5.0",
          "state": {
            "_dom_classes": [],
            "_model_module": "@jupyter-widgets/controls",
            "_model_module_version": "1.5.0",
            "_model_name": "TextModel",
            "_view_count": null,
            "_view_module": "@jupyter-widgets/controls",
            "_view_module_version": "1.5.0",
            "_view_name": "TextView",
            "continuous_update": true,
            "description": "s0_x",
            "description_tooltip": null,
            "disabled": false,
            "layout": "IPY_MODEL_957da110454143769a6a78fa21673345",
            "placeholder": "​",
            "style": "IPY_MODEL_1a169df28599403dbff4cba52cc106d6",
            "value": "4"
          }
        },
        "731f6857ad4443e1836d2488a0c59600": {
          "model_module": "@jupyter-widgets/controls",
          "model_name": "TextModel",
          "model_module_version": "1.5.0",
          "state": {
            "_dom_classes": [],
            "_model_module": "@jupyter-widgets/controls",
            "_model_module_version": "1.5.0",
            "_model_name": "TextModel",
            "_view_count": null,
            "_view_module": "@jupyter-widgets/controls",
            "_view_module_version": "1.5.0",
            "_view_name": "TextView",
            "continuous_update": true,
            "description": "s0_y",
            "description_tooltip": null,
            "disabled": false,
            "layout": "IPY_MODEL_5eb4447a03a6424bb360479a4cbdd063",
            "placeholder": "​",
            "style": "IPY_MODEL_8f1aaceda66c41d9bae489755eaa06cb",
            "value": "5"
          }
        },
        "294fe06e5f354246a2b8dc4752a9443d": {
          "model_module": "@jupyter-widgets/controls",
          "model_name": "ToggleButtonsModel",
          "model_module_version": "1.5.0",
          "state": {
            "_dom_classes": [],
            "_model_module": "@jupyter-widgets/controls",
            "_model_module_version": "1.5.0",
            "_model_name": "ToggleButtonsModel",
            "_options_labels": [
              "left",
              "right",
              "up",
              "down"
            ],
            "_view_count": null,
            "_view_module": "@jupyter-widgets/controls",
            "_view_module_version": "1.5.0",
            "_view_name": "ToggleButtonsView",
            "button_style": "",
            "description": "action",
            "description_tooltip": null,
            "disabled": false,
            "icons": [],
            "index": 0,
            "layout": "IPY_MODEL_424e0ec02b334e5caacc75da949611d3",
            "style": "IPY_MODEL_e03c9a4136ba46868d2e650baeb35d90",
            "tooltips": []
          }
        },
        "c7068fa0aba24285bf984dab670b5efc": {
          "model_module": "@jupyter-widgets/output",
          "model_name": "OutputModel",
          "model_module_version": "1.0.0",
          "state": {
            "_dom_classes": [],
            "_model_module": "@jupyter-widgets/output",
            "_model_module_version": "1.0.0",
            "_model_name": "OutputModel",
            "_view_count": null,
            "_view_module": "@jupyter-widgets/output",
            "_view_module_version": "1.0.0",
            "_view_name": "OutputView",
            "layout": "IPY_MODEL_b73ff7274ccb4339b869583f278765ca",
            "msg_id": "",
            "outputs": [
              {
                "output_type": "display_data",
                "data": {
                  "text/plain": "<Figure size 600x600 with 2 Axes>",
                  "image/png": "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\n"
                },
                "metadata": {}
              }
            ]
          }
        },
        "7ef95e9365804708b053eb9ca0def9cd": {
          "model_module": "@jupyter-widgets/base",
          "model_name": "LayoutModel",
          "model_module_version": "1.2.0",
          "state": {
            "_model_module": "@jupyter-widgets/base",
            "_model_module_version": "1.2.0",
            "_model_name": "LayoutModel",
            "_view_count": null,
            "_view_module": "@jupyter-widgets/base",
            "_view_module_version": "1.2.0",
            "_view_name": "LayoutView",
            "align_content": null,
            "align_items": null,
            "align_self": null,
            "border": null,
            "bottom": null,
            "display": null,
            "flex": null,
            "flex_flow": null,
            "grid_area": null,
            "grid_auto_columns": null,
            "grid_auto_flow": null,
            "grid_auto_rows": null,
            "grid_column": null,
            "grid_gap": null,
            "grid_row": null,
            "grid_template_areas": null,
            "grid_template_columns": null,
            "grid_template_rows": null,
            "height": null,
            "justify_content": null,
            "justify_items": null,
            "left": null,
            "margin": null,
            "max_height": null,
            "max_width": null,
            "min_height": null,
            "min_width": null,
            "object_fit": null,
            "object_position": null,
            "order": null,
            "overflow": null,
            "overflow_x": null,
            "overflow_y": null,
            "padding": null,
            "right": null,
            "top": null,
            "visibility": null,
            "width": null
          }
        },
        "957da110454143769a6a78fa21673345": {
          "model_module": "@jupyter-widgets/base",
          "model_name": "LayoutModel",
          "model_module_version": "1.2.0",
          "state": {
            "_model_module": "@jupyter-widgets/base",
            "_model_module_version": "1.2.0",
            "_model_name": "LayoutModel",
            "_view_count": null,
            "_view_module": "@jupyter-widgets/base",
            "_view_module_version": "1.2.0",
            "_view_name": "LayoutView",
            "align_content": null,
            "align_items": null,
            "align_self": null,
            "border": null,
            "bottom": null,
            "display": null,
            "flex": null,
            "flex_flow": null,
            "grid_area": null,
            "grid_auto_columns": null,
            "grid_auto_flow": null,
            "grid_auto_rows": null,
            "grid_column": null,
            "grid_gap": null,
            "grid_row": null,
            "grid_template_areas": null,
            "grid_template_columns": null,
            "grid_template_rows": null,
            "height": null,
            "justify_content": null,
            "justify_items": null,
            "left": null,
            "margin": null,
            "max_height": null,
            "max_width": null,
            "min_height": null,
            "min_width": null,
            "object_fit": null,
            "object_position": null,
            "order": null,
            "overflow": null,
            "overflow_x": null,
            "overflow_y": null,
            "padding": null,
            "right": null,
            "top": null,
            "visibility": null,
            "width": null
          }
        },
        "1a169df28599403dbff4cba52cc106d6": {
          "model_module": "@jupyter-widgets/controls",
          "model_name": "DescriptionStyleModel",
          "model_module_version": "1.5.0",
          "state": {
            "_model_module": "@jupyter-widgets/controls",
            "_model_module_version": "1.5.0",
            "_model_name": "DescriptionStyleModel",
            "_view_count": null,
            "_view_module": "@jupyter-widgets/base",
            "_view_module_version": "1.2.0",
            "_view_name": "StyleView",
            "description_width": ""
          }
        },
        "5eb4447a03a6424bb360479a4cbdd063": {
          "model_module": "@jupyter-widgets/base",
          "model_name": "LayoutModel",
          "model_module_version": "1.2.0",
          "state": {
            "_model_module": "@jupyter-widgets/base",
            "_model_module_version": "1.2.0",
            "_model_name": "LayoutModel",
            "_view_count": null,
            "_view_module": "@jupyter-widgets/base",
            "_view_module_version": "1.2.0",
            "_view_name": "LayoutView",
            "align_content": null,
            "align_items": null,
            "align_self": null,
            "border": null,
            "bottom": null,
            "display": null,
            "flex": null,
            "flex_flow": null,
            "grid_area": null,
            "grid_auto_columns": null,
            "grid_auto_flow": null,
            "grid_auto_rows": null,
            "grid_column": null,
            "grid_gap": null,
            "grid_row": null,
            "grid_template_areas": null,
            "grid_template_columns": null,
            "grid_template_rows": null,
            "height": null,
            "justify_content": null,
            "justify_items": null,
            "left": null,
            "margin": null,
            "max_height": null,
            "max_width": null,
            "min_height": null,
            "min_width": null,
            "object_fit": null,
            "object_position": null,
            "order": null,
            "overflow": null,
            "overflow_x": null,
            "overflow_y": null,
            "padding": null,
            "right": null,
            "top": null,
            "visibility": null,
            "width": null
          }
        },
        "8f1aaceda66c41d9bae489755eaa06cb": {
          "model_module": "@jupyter-widgets/controls",
          "model_name": "DescriptionStyleModel",
          "model_module_version": "1.5.0",
          "state": {
            "_model_module": "@jupyter-widgets/controls",
            "_model_module_version": "1.5.0",
            "_model_name": "DescriptionStyleModel",
            "_view_count": null,
            "_view_module": "@jupyter-widgets/base",
            "_view_module_version": "1.2.0",
            "_view_name": "StyleView",
            "description_width": ""
          }
        },
        "424e0ec02b334e5caacc75da949611d3": {
          "model_module": "@jupyter-widgets/base",
          "model_name": "LayoutModel",
          "model_module_version": "1.2.0",
          "state": {
            "_model_module": "@jupyter-widgets/base",
            "_model_module_version": "1.2.0",
            "_model_name": "LayoutModel",
            "_view_count": null,
            "_view_module": "@jupyter-widgets/base",
            "_view_module_version": "1.2.0",
            "_view_name": "LayoutView",
            "align_content": null,
            "align_items": null,
            "align_self": null,
            "border": null,
            "bottom": null,
            "display": null,
            "flex": null,
            "flex_flow": null,
            "grid_area": null,
            "grid_auto_columns": null,
            "grid_auto_flow": null,
            "grid_auto_rows": null,
            "grid_column": null,
            "grid_gap": null,
            "grid_row": null,
            "grid_template_areas": null,
            "grid_template_columns": null,
            "grid_template_rows": null,
            "height": null,
            "justify_content": null,
            "justify_items": null,
            "left": null,
            "margin": null,
            "max_height": null,
            "max_width": null,
            "min_height": null,
            "min_width": null,
            "object_fit": null,
            "object_position": null,
            "order": null,
            "overflow": null,
            "overflow_x": null,
            "overflow_y": null,
            "padding": null,
            "right": null,
            "top": null,
            "visibility": null,
            "width": null
          }
        },
        "e03c9a4136ba46868d2e650baeb35d90": {
          "model_module": "@jupyter-widgets/controls",
          "model_name": "ToggleButtonsStyleModel",
          "model_module_version": "1.5.0",
          "state": {
            "_model_module": "@jupyter-widgets/controls",
            "_model_module_version": "1.5.0",
            "_model_name": "ToggleButtonsStyleModel",
            "_view_count": null,
            "_view_module": "@jupyter-widgets/base",
            "_view_module_version": "1.2.0",
            "_view_name": "StyleView",
            "button_width": "",
            "description_width": "",
            "font_weight": ""
          }
        },
        "b73ff7274ccb4339b869583f278765ca": {
          "model_module": "@jupyter-widgets/base",
          "model_name": "LayoutModel",
          "model_module_version": "1.2.0",
          "state": {
            "_model_module": "@jupyter-widgets/base",
            "_model_module_version": "1.2.0",
            "_model_name": "LayoutModel",
            "_view_count": null,
            "_view_module": "@jupyter-widgets/base",
            "_view_module_version": "1.2.0",
            "_view_name": "LayoutView",
            "align_content": null,
            "align_items": null,
            "align_self": null,
            "border": null,
            "bottom": null,
            "display": null,
            "flex": null,
            "flex_flow": null,
            "grid_area": null,
            "grid_auto_columns": null,
            "grid_auto_flow": null,
            "grid_auto_rows": null,
            "grid_column": null,
            "grid_gap": null,
            "grid_row": null,
            "grid_template_areas": null,
            "grid_template_columns": null,
            "grid_template_rows": null,
            "height": null,
            "justify_content": null,
            "justify_items": null,
            "left": null,
            "margin": null,
            "max_height": null,
            "max_width": null,
            "min_height": null,
            "min_width": null,
            "object_fit": null,
            "object_position": null,
            "order": null,
            "overflow": null,
            "overflow_x": null,
            "overflow_y": null,
            "padding": null,
            "right": null,
            "top": null,
            "visibility": null,
            "width": null
          }
        },
        "ec8e30d029194139a9ff23869c1561eb": {
          "model_module": "@jupyter-widgets/controls",
          "model_name": "VBoxModel",
          "model_module_version": "1.5.0",
          "state": {
            "_dom_classes": [
              "widget-interact"
            ],
            "_model_module": "@jupyter-widgets/controls",
            "_model_module_version": "1.5.0",
            "_model_name": "VBoxModel",
            "_view_count": null,
            "_view_module": "@jupyter-widgets/controls",
            "_view_module_version": "1.5.0",
            "_view_name": "VBoxView",
            "box_style": "",
            "children": [
              "IPY_MODEL_84ccd739fd1341e9a68c672dd8cab17d",
              "IPY_MODEL_3ae055df414e43d59be7b9f187eedcb4",
              "IPY_MODEL_faced5bec39e4ee7a3781c540478f8d3"
            ],
            "layout": "IPY_MODEL_2f1236f0a6994dfab935c92d78031894"
          }
        },
        "84ccd739fd1341e9a68c672dd8cab17d": {
          "model_module": "@jupyter-widgets/controls",
          "model_name": "ToggleButtonsModel",
          "model_module_version": "1.5.0",
          "state": {
            "_dom_classes": [],
            "_model_module": "@jupyter-widgets/controls",
            "_model_module_version": "1.5.0",
            "_model_name": "ToggleButtonsModel",
            "_options_labels": [
              "left",
              "right",
              "up",
              "down"
            ],
            "_view_count": null,
            "_view_module": "@jupyter-widgets/controls",
            "_view_module_version": "1.5.0",
            "_view_name": "ToggleButtonsView",
            "button_style": "",
            "description": "action",
            "description_tooltip": null,
            "disabled": false,
            "icons": [],
            "index": 0,
            "layout": "IPY_MODEL_8d5beaedb929438f969e8b4b2165e739",
            "style": "IPY_MODEL_bd25c19e46a24658949bf6aa37075b07",
            "tooltips": []
          }
        },
        "3ae055df414e43d59be7b9f187eedcb4": {
          "model_module": "@jupyter-widgets/controls",
          "model_name": "IntSliderModel",
          "model_module_version": "1.5.0",
          "state": {
            "_dom_classes": [],
            "_model_module": "@jupyter-widgets/controls",
            "_model_module_version": "1.5.0",
            "_model_name": "IntSliderModel",
            "_view_count": null,
            "_view_module": "@jupyter-widgets/controls",
            "_view_module_version": "1.5.0",
            "_view_name": "IntSliderView",
            "continuous_update": true,
            "description": "numIter",
            "description_tooltip": null,
            "disabled": false,
            "layout": "IPY_MODEL_c6a76aa4a079403391974aeead69c21e",
            "max": 20,
            "min": 0,
            "orientation": "horizontal",
            "readout": true,
            "readout_format": "d",
            "step": 1,
            "style": "IPY_MODEL_04216d0af4eb487fa86de5c4a723cb73",
            "value": 0
          }
        },
        "faced5bec39e4ee7a3781c540478f8d3": {
          "model_module": "@jupyter-widgets/output",
          "model_name": "OutputModel",
          "model_module_version": "1.0.0",
          "state": {
            "_dom_classes": [],
            "_model_module": "@jupyter-widgets/output",
            "_model_module_version": "1.0.0",
            "_model_name": "OutputModel",
            "_view_count": null,
            "_view_module": "@jupyter-widgets/output",
            "_view_module_version": "1.0.0",
            "_view_name": "OutputView",
            "layout": "IPY_MODEL_e8e93696aaa746b8b9d4e7a0b09adfc4",
            "msg_id": "",
            "outputs": [
              {
                "output_type": "display_data",
                "data": {
                  "text/plain": "<Figure size 300x300 with 2 Axes>",
                  "image/png": "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\n"
                },
                "metadata": {}
              }
            ]
          }
        },
        "2f1236f0a6994dfab935c92d78031894": {
          "model_module": "@jupyter-widgets/base",
          "model_name": "LayoutModel",
          "model_module_version": "1.2.0",
          "state": {
            "_model_module": "@jupyter-widgets/base",
            "_model_module_version": "1.2.0",
            "_model_name": "LayoutModel",
            "_view_count": null,
            "_view_module": "@jupyter-widgets/base",
            "_view_module_version": "1.2.0",
            "_view_name": "LayoutView",
            "align_content": null,
            "align_items": null,
            "align_self": null,
            "border": null,
            "bottom": null,
            "display": null,
            "flex": null,
            "flex_flow": null,
            "grid_area": null,
            "grid_auto_columns": null,
            "grid_auto_flow": null,
            "grid_auto_rows": null,
            "grid_column": null,
            "grid_gap": null,
            "grid_row": null,
            "grid_template_areas": null,
            "grid_template_columns": null,
            "grid_template_rows": null,
            "height": null,
            "justify_content": null,
            "justify_items": null,
            "left": null,
            "margin": null,
            "max_height": null,
            "max_width": null,
            "min_height": null,
            "min_width": null,
            "object_fit": null,
            "object_position": null,
            "order": null,
            "overflow": null,
            "overflow_x": null,
            "overflow_y": null,
            "padding": null,
            "right": null,
            "top": null,
            "visibility": null,
            "width": null
          }
        },
        "8d5beaedb929438f969e8b4b2165e739": {
          "model_module": "@jupyter-widgets/base",
          "model_name": "LayoutModel",
          "model_module_version": "1.2.0",
          "state": {
            "_model_module": "@jupyter-widgets/base",
            "_model_module_version": "1.2.0",
            "_model_name": "LayoutModel",
            "_view_count": null,
            "_view_module": "@jupyter-widgets/base",
            "_view_module_version": "1.2.0",
            "_view_name": "LayoutView",
            "align_content": null,
            "align_items": null,
            "align_self": null,
            "border": null,
            "bottom": null,
            "display": null,
            "flex": null,
            "flex_flow": null,
            "grid_area": null,
            "grid_auto_columns": null,
            "grid_auto_flow": null,
            "grid_auto_rows": null,
            "grid_column": null,
            "grid_gap": null,
            "grid_row": null,
            "grid_template_areas": null,
            "grid_template_columns": null,
            "grid_template_rows": null,
            "height": null,
            "justify_content": null,
            "justify_items": null,
            "left": null,
            "margin": null,
            "max_height": null,
            "max_width": null,
            "min_height": null,
            "min_width": null,
            "object_fit": null,
            "object_position": null,
            "order": null,
            "overflow": null,
            "overflow_x": null,
            "overflow_y": null,
            "padding": null,
            "right": null,
            "top": null,
            "visibility": null,
            "width": null
          }
        },
        "bd25c19e46a24658949bf6aa37075b07": {
          "model_module": "@jupyter-widgets/controls",
          "model_name": "ToggleButtonsStyleModel",
          "model_module_version": "1.5.0",
          "state": {
            "_model_module": "@jupyter-widgets/controls",
            "_model_module_version": "1.5.0",
            "_model_name": "ToggleButtonsStyleModel",
            "_view_count": null,
            "_view_module": "@jupyter-widgets/base",
            "_view_module_version": "1.2.0",
            "_view_name": "StyleView",
            "button_width": "",
            "description_width": "",
            "font_weight": ""
          }
        },
        "c6a76aa4a079403391974aeead69c21e": {
          "model_module": "@jupyter-widgets/base",
          "model_name": "LayoutModel",
          "model_module_version": "1.2.0",
          "state": {
            "_model_module": "@jupyter-widgets/base",
            "_model_module_version": "1.2.0",
            "_model_name": "LayoutModel",
            "_view_count": null,
            "_view_module": "@jupyter-widgets/base",
            "_view_module_version": "1.2.0",
            "_view_name": "LayoutView",
            "align_content": null,
            "align_items": null,
            "align_self": null,
            "border": null,
            "bottom": null,
            "display": null,
            "flex": null,
            "flex_flow": null,
            "grid_area": null,
            "grid_auto_columns": null,
            "grid_auto_flow": null,
            "grid_auto_rows": null,
            "grid_column": null,
            "grid_gap": null,
            "grid_row": null,
            "grid_template_areas": null,
            "grid_template_columns": null,
            "grid_template_rows": null,
            "height": null,
            "justify_content": null,
            "justify_items": null,
            "left": null,
            "margin": null,
            "max_height": null,
            "max_width": null,
            "min_height": null,
            "min_width": null,
            "object_fit": null,
            "object_position": null,
            "order": null,
            "overflow": null,
            "overflow_x": null,
            "overflow_y": null,
            "padding": null,
            "right": null,
            "top": null,
            "visibility": null,
            "width": null
          }
        },
        "04216d0af4eb487fa86de5c4a723cb73": {
          "model_module": "@jupyter-widgets/controls",
          "model_name": "SliderStyleModel",
          "model_module_version": "1.5.0",
          "state": {
            "_model_module": "@jupyter-widgets/controls",
            "_model_module_version": "1.5.0",
            "_model_name": "SliderStyleModel",
            "_view_count": null,
            "_view_module": "@jupyter-widgets/base",
            "_view_module_version": "1.2.0",
            "_view_name": "StyleView",
            "description_width": "",
            "handle_color": null
          }
        },
        "e8e93696aaa746b8b9d4e7a0b09adfc4": {
          "model_module": "@jupyter-widgets/base",
          "model_name": "LayoutModel",
          "model_module_version": "1.2.0",
          "state": {
            "_model_module": "@jupyter-widgets/base",
            "_model_module_version": "1.2.0",
            "_model_name": "LayoutModel",
            "_view_count": null,
            "_view_module": "@jupyter-widgets/base",
            "_view_module_version": "1.2.0",
            "_view_name": "LayoutView",
            "align_content": null,
            "align_items": null,
            "align_self": null,
            "border": null,
            "bottom": null,
            "display": null,
            "flex": null,
            "flex_flow": null,
            "grid_area": null,
            "grid_auto_columns": null,
            "grid_auto_flow": null,
            "grid_auto_rows": null,
            "grid_column": null,
            "grid_gap": null,
            "grid_row": null,
            "grid_template_areas": null,
            "grid_template_columns": null,
            "grid_template_rows": null,
            "height": null,
            "justify_content": null,
            "justify_items": null,
            "left": null,
            "margin": null,
            "max_height": null,
            "max_width": null,
            "min_height": null,
            "min_width": null,
            "object_fit": null,
            "object_position": null,
            "order": null,
            "overflow": null,
            "overflow_x": null,
            "overflow_y": null,
            "padding": null,
            "right": null,
            "top": null,
            "visibility": null,
            "width": null
          }
        },
        "219d330f537f416fb16af99cc1385cdb": {
          "model_module": "@jupyter-widgets/controls",
          "model_name": "VBoxModel",
          "model_module_version": "1.5.0",
          "state": {
            "_dom_classes": [
              "widget-interact"
            ],
            "_model_module": "@jupyter-widgets/controls",
            "_model_module_version": "1.5.0",
            "_model_name": "VBoxModel",
            "_view_count": null,
            "_view_module": "@jupyter-widgets/controls",
            "_view_module_version": "1.5.0",
            "_view_name": "VBoxView",
            "box_style": "",
            "children": [
              "IPY_MODEL_9e9eaba827a3400f9fa7f885c59fb751",
              "IPY_MODEL_978a614bc886420fb123f3b541068d25"
            ],
            "layout": "IPY_MODEL_57b78bf1ee224520af47d76ade1e1996"
          }
        },
        "9e9eaba827a3400f9fa7f885c59fb751": {
          "model_module": "@jupyter-widgets/controls",
          "model_name": "IntSliderModel",
          "model_module_version": "1.5.0",
          "state": {
            "_dom_classes": [],
            "_model_module": "@jupyter-widgets/controls",
            "_model_module_version": "1.5.0",
            "_model_name": "IntSliderModel",
            "_view_count": null,
            "_view_module": "@jupyter-widgets/controls",
            "_view_module_version": "1.5.0",
            "_view_name": "IntSliderView",
            "continuous_update": true,
            "description": "numIter",
            "description_tooltip": null,
            "disabled": false,
            "layout": "IPY_MODEL_5014c939fd294e8a95fd5d4a7b6ede0e",
            "max": 20,
            "min": 0,
            "orientation": "horizontal",
            "readout": true,
            "readout_format": "d",
            "step": 1,
            "style": "IPY_MODEL_adf83f3dfc2a4a55a04be48a4e134f69",
            "value": 0
          }
        },
        "978a614bc886420fb123f3b541068d25": {
          "model_module": "@jupyter-widgets/output",
          "model_name": "OutputModel",
          "model_module_version": "1.0.0",
          "state": {
            "_dom_classes": [],
            "_model_module": "@jupyter-widgets/output",
            "_model_module_version": "1.0.0",
            "_model_name": "OutputModel",
            "_view_count": null,
            "_view_module": "@jupyter-widgets/output",
            "_view_module_version": "1.0.0",
            "_view_name": "OutputView",
            "layout": "IPY_MODEL_edfae0fe7722405cb0808eed6d43c24e",
            "msg_id": "",
            "outputs": [
              {
                "output_type": "stream",
                "name": "stdout",
                "text": [
                  "time= 6.67\n"
                ]
              },
              {
                "output_type": "display_data",
                "data": {
                  "text/plain": "<Figure size 300x300 with 2 Axes>",
                  "image/png": "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\n"
                },
                "metadata": {}
              }
            ]
          }
        },
        "57b78bf1ee224520af47d76ade1e1996": {
          "model_module": "@jupyter-widgets/base",
          "model_name": "LayoutModel",
          "model_module_version": "1.2.0",
          "state": {
            "_model_module": "@jupyter-widgets/base",
            "_model_module_version": "1.2.0",
            "_model_name": "LayoutModel",
            "_view_count": null,
            "_view_module": "@jupyter-widgets/base",
            "_view_module_version": "1.2.0",
            "_view_name": "LayoutView",
            "align_content": null,
            "align_items": null,
            "align_self": null,
            "border": null,
            "bottom": null,
            "display": null,
            "flex": null,
            "flex_flow": null,
            "grid_area": null,
            "grid_auto_columns": null,
            "grid_auto_flow": null,
            "grid_auto_rows": null,
            "grid_column": null,
            "grid_gap": null,
            "grid_row": null,
            "grid_template_areas": null,
            "grid_template_columns": null,
            "grid_template_rows": null,
            "height": null,
            "justify_content": null,
            "justify_items": null,
            "left": null,
            "margin": null,
            "max_height": null,
            "max_width": null,
            "min_height": null,
            "min_width": null,
            "object_fit": null,
            "object_position": null,
            "order": null,
            "overflow": null,
            "overflow_x": null,
            "overflow_y": null,
            "padding": null,
            "right": null,
            "top": null,
            "visibility": null,
            "width": null
          }
        },
        "5014c939fd294e8a95fd5d4a7b6ede0e": {
          "model_module": "@jupyter-widgets/base",
          "model_name": "LayoutModel",
          "model_module_version": "1.2.0",
          "state": {
            "_model_module": "@jupyter-widgets/base",
            "_model_module_version": "1.2.0",
            "_model_name": "LayoutModel",
            "_view_count": null,
            "_view_module": "@jupyter-widgets/base",
            "_view_module_version": "1.2.0",
            "_view_name": "LayoutView",
            "align_content": null,
            "align_items": null,
            "align_self": null,
            "border": null,
            "bottom": null,
            "display": null,
            "flex": null,
            "flex_flow": null,
            "grid_area": null,
            "grid_auto_columns": null,
            "grid_auto_flow": null,
            "grid_auto_rows": null,
            "grid_column": null,
            "grid_gap": null,
            "grid_row": null,
            "grid_template_areas": null,
            "grid_template_columns": null,
            "grid_template_rows": null,
            "height": null,
            "justify_content": null,
            "justify_items": null,
            "left": null,
            "margin": null,
            "max_height": null,
            "max_width": null,
            "min_height": null,
            "min_width": null,
            "object_fit": null,
            "object_position": null,
            "order": null,
            "overflow": null,
            "overflow_x": null,
            "overflow_y": null,
            "padding": null,
            "right": null,
            "top": null,
            "visibility": null,
            "width": null
          }
        },
        "adf83f3dfc2a4a55a04be48a4e134f69": {
          "model_module": "@jupyter-widgets/controls",
          "model_name": "SliderStyleModel",
          "model_module_version": "1.5.0",
          "state": {
            "_model_module": "@jupyter-widgets/controls",
            "_model_module_version": "1.5.0",
            "_model_name": "SliderStyleModel",
            "_view_count": null,
            "_view_module": "@jupyter-widgets/base",
            "_view_module_version": "1.2.0",
            "_view_name": "StyleView",
            "description_width": "",
            "handle_color": null
          }
        },
        "edfae0fe7722405cb0808eed6d43c24e": {
          "model_module": "@jupyter-widgets/base",
          "model_name": "LayoutModel",
          "model_module_version": "1.2.0",
          "state": {
            "_model_module": "@jupyter-widgets/base",
            "_model_module_version": "1.2.0",
            "_model_name": "LayoutModel",
            "_view_count": null,
            "_view_module": "@jupyter-widgets/base",
            "_view_module_version": "1.2.0",
            "_view_name": "LayoutView",
            "align_content": null,
            "align_items": null,
            "align_self": null,
            "border": null,
            "bottom": null,
            "display": null,
            "flex": null,
            "flex_flow": null,
            "grid_area": null,
            "grid_auto_columns": null,
            "grid_auto_flow": null,
            "grid_auto_rows": null,
            "grid_column": null,
            "grid_gap": null,
            "grid_row": null,
            "grid_template_areas": null,
            "grid_template_columns": null,
            "grid_template_rows": null,
            "height": null,
            "justify_content": null,
            "justify_items": null,
            "left": null,
            "margin": null,
            "max_height": null,
            "max_width": null,
            "min_height": null,
            "min_width": null,
            "object_fit": null,
            "object_position": null,
            "order": null,
            "overflow": null,
            "overflow_x": null,
            "overflow_y": null,
            "padding": null,
            "right": null,
            "top": null,
            "visibility": null,
            "width": null
          }
        },
        "03f8cfacb83d44e38ba71e99d6bf6877": {
          "model_module": "@jupyter-widgets/controls",
          "model_name": "VBoxModel",
          "model_module_version": "1.5.0",
          "state": {
            "_dom_classes": [
              "widget-interact"
            ],
            "_model_module": "@jupyter-widgets/controls",
            "_model_module_version": "1.5.0",
            "_model_name": "VBoxModel",
            "_view_count": null,
            "_view_module": "@jupyter-widgets/controls",
            "_view_module_version": "1.5.0",
            "_view_name": "VBoxView",
            "box_style": "",
            "children": [
              "IPY_MODEL_2c9026ff666843e2a11c42c43461faa6",
              "IPY_MODEL_5364e43334584ee8a17a93e2e914c962"
            ],
            "layout": "IPY_MODEL_0035aac3d9d548588ff6fd634227a924"
          }
        },
        "2c9026ff666843e2a11c42c43461faa6": {
          "model_module": "@jupyter-widgets/controls",
          "model_name": "IntSliderModel",
          "model_module_version": "1.5.0",
          "state": {
            "_dom_classes": [],
            "_model_module": "@jupyter-widgets/controls",
            "_model_module_version": "1.5.0",
            "_model_name": "IntSliderModel",
            "_view_count": null,
            "_view_module": "@jupyter-widgets/controls",
            "_view_module_version": "1.5.0",
            "_view_name": "IntSliderView",
            "continuous_update": true,
            "description": "numIter",
            "description_tooltip": null,
            "disabled": false,
            "layout": "IPY_MODEL_f403cb3f92224ccbb56a4da781c2340b",
            "max": 20,
            "min": 0,
            "orientation": "horizontal",
            "readout": true,
            "readout_format": "d",
            "step": 1,
            "style": "IPY_MODEL_968042e42ce24bfa8435e72b7f1e56bc",
            "value": 19
          }
        },
        "5364e43334584ee8a17a93e2e914c962": {
          "model_module": "@jupyter-widgets/output",
          "model_name": "OutputModel",
          "model_module_version": "1.0.0",
          "state": {
            "_dom_classes": [],
            "_model_module": "@jupyter-widgets/output",
            "_model_module_version": "1.0.0",
            "_model_name": "OutputModel",
            "_view_count": null,
            "_view_module": "@jupyter-widgets/output",
            "_view_module_version": "1.0.0",
            "_view_name": "OutputView",
            "layout": "IPY_MODEL_eb4017ab23ac430e9b82372986ce9163",
            "msg_id": "",
            "outputs": [
              {
                "output_type": "stream",
                "name": "stdout",
                "text": [
                  "time= 150.88\n"
                ]
              },
              {
                "output_type": "display_data",
                "data": {
                  "text/plain": "<Figure size 300x300 with 2 Axes>",
                  "image/png": "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\n"
                },
                "metadata": {}
              }
            ]
          }
        },
        "0035aac3d9d548588ff6fd634227a924": {
          "model_module": "@jupyter-widgets/base",
          "model_name": "LayoutModel",
          "model_module_version": "1.2.0",
          "state": {
            "_model_module": "@jupyter-widgets/base",
            "_model_module_version": "1.2.0",
            "_model_name": "LayoutModel",
            "_view_count": null,
            "_view_module": "@jupyter-widgets/base",
            "_view_module_version": "1.2.0",
            "_view_name": "LayoutView",
            "align_content": null,
            "align_items": null,
            "align_self": null,
            "border": null,
            "bottom": null,
            "display": null,
            "flex": null,
            "flex_flow": null,
            "grid_area": null,
            "grid_auto_columns": null,
            "grid_auto_flow": null,
            "grid_auto_rows": null,
            "grid_column": null,
            "grid_gap": null,
            "grid_row": null,
            "grid_template_areas": null,
            "grid_template_columns": null,
            "grid_template_rows": null,
            "height": null,
            "justify_content": null,
            "justify_items": null,
            "left": null,
            "margin": null,
            "max_height": null,
            "max_width": null,
            "min_height": null,
            "min_width": null,
            "object_fit": null,
            "object_position": null,
            "order": null,
            "overflow": null,
            "overflow_x": null,
            "overflow_y": null,
            "padding": null,
            "right": null,
            "top": null,
            "visibility": null,
            "width": null
          }
        },
        "f403cb3f92224ccbb56a4da781c2340b": {
          "model_module": "@jupyter-widgets/base",
          "model_name": "LayoutModel",
          "model_module_version": "1.2.0",
          "state": {
            "_model_module": "@jupyter-widgets/base",
            "_model_module_version": "1.2.0",
            "_model_name": "LayoutModel",
            "_view_count": null,
            "_view_module": "@jupyter-widgets/base",
            "_view_module_version": "1.2.0",
            "_view_name": "LayoutView",
            "align_content": null,
            "align_items": null,
            "align_self": null,
            "border": null,
            "bottom": null,
            "display": null,
            "flex": null,
            "flex_flow": null,
            "grid_area": null,
            "grid_auto_columns": null,
            "grid_auto_flow": null,
            "grid_auto_rows": null,
            "grid_column": null,
            "grid_gap": null,
            "grid_row": null,
            "grid_template_areas": null,
            "grid_template_columns": null,
            "grid_template_rows": null,
            "height": null,
            "justify_content": null,
            "justify_items": null,
            "left": null,
            "margin": null,
            "max_height": null,
            "max_width": null,
            "min_height": null,
            "min_width": null,
            "object_fit": null,
            "object_position": null,
            "order": null,
            "overflow": null,
            "overflow_x": null,
            "overflow_y": null,
            "padding": null,
            "right": null,
            "top": null,
            "visibility": null,
            "width": null
          }
        },
        "968042e42ce24bfa8435e72b7f1e56bc": {
          "model_module": "@jupyter-widgets/controls",
          "model_name": "SliderStyleModel",
          "model_module_version": "1.5.0",
          "state": {
            "_model_module": "@jupyter-widgets/controls",
            "_model_module_version": "1.5.0",
            "_model_name": "SliderStyleModel",
            "_view_count": null,
            "_view_module": "@jupyter-widgets/base",
            "_view_module_version": "1.2.0",
            "_view_name": "StyleView",
            "description_width": "",
            "handle_color": null
          }
        },
        "eb4017ab23ac430e9b82372986ce9163": {
          "model_module": "@jupyter-widgets/base",
          "model_name": "LayoutModel",
          "model_module_version": "1.2.0",
          "state": {
            "_model_module": "@jupyter-widgets/base",
            "_model_module_version": "1.2.0",
            "_model_name": "LayoutModel",
            "_view_count": null,
            "_view_module": "@jupyter-widgets/base",
            "_view_module_version": "1.2.0",
            "_view_name": "LayoutView",
            "align_content": null,
            "align_items": null,
            "align_self": null,
            "border": null,
            "bottom": null,
            "display": null,
            "flex": null,
            "flex_flow": null,
            "grid_area": null,
            "grid_auto_columns": null,
            "grid_auto_flow": null,
            "grid_auto_rows": null,
            "grid_column": null,
            "grid_gap": null,
            "grid_row": null,
            "grid_template_areas": null,
            "grid_template_columns": null,
            "grid_template_rows": null,
            "height": null,
            "justify_content": null,
            "justify_items": null,
            "left": null,
            "margin": null,
            "max_height": null,
            "max_width": null,
            "min_height": null,
            "min_width": null,
            "object_fit": null,
            "object_position": null,
            "order": null,
            "overflow": null,
            "overflow_x": null,
            "overflow_y": null,
            "padding": null,
            "right": null,
            "top": null,
            "visibility": null,
            "width": null
          }
        }
      }
    }
  },
  "nbformat": 4,
  "nbformat_minor": 0
}