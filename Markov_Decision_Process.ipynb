{
 "cells": [
  {
   "cell_type": "markdown",
   "metadata": {
    "id": "-LMwDZHlsAvn"
   },
   "source": [
    "# Markov Decision Process (MDP)"
   ]
  },
  {
   "cell_type": "markdown",
   "metadata": {
    "id": "rK2etKh-sAvo"
   },
   "source": [
    "### Ransalu Senanayake"
   ]
  },
  {
   "cell_type": "code",
   "execution_count": null,
   "metadata": {
    "id": "Tlr-PNcssAvp"
   },
   "outputs": [],
   "source": [
    "import copy\n",
    "import timeit\n",
    "import numpy as np\n",
    "import matplotlib.pyplot as pl\n",
    "%matplotlib inline\n",
    "from ipywidgets import interactive\n",
    "import ipywidgets as widgets"
   ]
  },
  {
   "cell_type": "markdown",
   "metadata": {
    "id": "_f6VSXlQsAvs"
   },
   "source": [
    "Create the following grid world.\n",
    "\n",
    "**States:** A 10x10 grid\n",
    "\n",
    "**Actions:** Up, Down, Left, Right\n",
    "\n",
    "**Tranistion probabilities:** \n",
    "* 0.7 in the direction of action\n",
    "* 0.1 in the three other directions\n",
    "* The robot bounces back to the same state near edges\n",
    "\n",
    "**Rewards:**\n",
    "* (7,8) has a reward +10\n",
    "* (2,7) has a reward +3\n",
    "* (4,3) has a reward -5\n",
    "* (7,3) has a reward -10\n",
    "* No reward in other states\n",
    "\n",
    "This example is based on Decision Making Under Uncertainty by M.J. Kochenderfer."
   ]
  },
  {
   "cell_type": "code",
   "execution_count": null,
   "metadata": {
    "id": "sbT7VOEQsAvt"
   },
   "outputs": [],
   "source": [
    "#Let's define MDP paras\n",
    "def createGrid10World():\n",
    "    def xy2s(y, x):\n",
    "        x = max(x, 0)\n",
    "        y = max(y, 0)\n",
    "        x = min(x, 9)\n",
    "        y = min(y, 9)\n",
    "        out = np.ravel_multi_index(np.array([x,y]), (10,10))\n",
    "        return out\n",
    "\n",
    "    def s2xy(s):\n",
    "        x, y = np.unravel_index(s, (10,10))\n",
    "        return y, x\n",
    "\n",
    "    def gridPlot(ax, im, title='', cmap='Blues'):\n",
    "        pl.imshow(im, interpolation='none', cmap=cmap, origin='lower')\n",
    "        pl.colorbar()\n",
    "        ax.set_xticks(np.arange(0, 10, 1));\n",
    "        ax.set_yticks(np.arange(0, 10, 1));\n",
    "        ax.set_xticklabels(np.arange(0, 10, 1));\n",
    "        ax.set_yticklabels(np.arange(0, 10, 1));\n",
    "        ax.set_xticks(np.arange(-.5, 10, 1), minor=True);\n",
    "        ax.set_yticks(np.arange(-.5, 10, 1), minor=True);\n",
    "        ax.grid(which='minor', color='w', linestyle='-', linewidth=1)\n",
    "        pl.title(title);\n",
    "        return \n",
    "    \n",
    "    A = ['left', 'right', 'up', 'down']\n",
    "    S = np.arange(100)\n",
    "    T = np.zeros((len(S), len(A), len(S)))\n",
    "    R = np.zeros((len(S), len(A)))\n",
    "    for s in S:\n",
    "        x, y = s2xy(s)\n",
    "        if x == 2 and y == 7:\n",
    "            R[s, :] = 3\n",
    "        elif x == 7 and y == 8:\n",
    "            R[s, :] = 10\n",
    "        else:\n",
    "            if x == 7 and y == 3:\n",
    "                R[s, :] = -10\n",
    "            elif x == 4 and y == 3:\n",
    "                R[s, :] = -5\n",
    "            elif x == 0:\n",
    "                if y == 0 or y == 9:\n",
    "                    R[s, :] = -0.2\n",
    "                else:\n",
    "                    R[s, :] = -0.1\n",
    "                R[s, 0] = -0.7\n",
    "            elif x == 9:\n",
    "                if y == 0 or y == 9:\n",
    "                    R[s, :] = -0.2\n",
    "                else:\n",
    "                    R[s, :] = -0.1\n",
    "                R[s, 1] = -0.7\n",
    "            elif y == 0:\n",
    "                if x == 0 or x == 9:\n",
    "                    R[s, :] = -0.2\n",
    "                else:\n",
    "                    R[s, :] = -0.1\n",
    "                R[s, 3] = -0.7\n",
    "            elif y == 9:\n",
    "                if x == 0 or x == 9:\n",
    "                    R[s, :] = -0.2\n",
    "                else:\n",
    "                    R[s, :] = -0.1\n",
    "                R[s, 2] = -0.7\n",
    "                \n",
    "            for a in A:\n",
    "                if a == 'left':\n",
    "                    T[s, 0, xy2s(x - 1, y)] += 0.7\n",
    "                    T[s, 0, xy2s(x + 1, y)] += 0.1\n",
    "                    T[s, 0, xy2s(x, y - 1)] += 0.1\n",
    "                    T[s, 0, xy2s(x, y + 1)] += 0.1\n",
    "                elif a == 'right':\n",
    "                    T[s, 1, xy2s(x + 1, y)] += 0.7\n",
    "                    T[s, 1, xy2s(x - 1, y)] += 0.1\n",
    "                    T[s, 1, xy2s(x, y - 1)] += 0.1\n",
    "                    T[s, 1, xy2s(x, y + 1)] += 0.1\n",
    "                elif a == 'up':\n",
    "                    T[s, 2, xy2s(x, y + 1)] += 0.7\n",
    "                    T[s, 2, xy2s(x, y - 1)] += 0.1\n",
    "                    T[s, 2, xy2s(x - 1, y)] += 0.1\n",
    "                    T[s, 2, xy2s(x + 1, y)] += 0.1\n",
    "                elif a == 'down':\n",
    "                    T[s, 3, xy2s(x, y - 1)] += 0.7\n",
    "                    T[s, 3, xy2s(x, y + 1)] += 0.1\n",
    "                    T[s, 3, xy2s(x - 1, y)] += 0.1\n",
    "                    T[s, 3, xy2s(x + 1, y)] += 0.1\n",
    "\n",
    "    for a, c_x, c_y in [(0,0,0), (0,0,9),(1,9,0),(1,9,9),(2,0,9),(2,9,9),(3,0,0),(3,9,0)]:                \n",
    "        R[xy2s(c_x,c_y),a] = -0.8\n",
    " \n",
    "    discount = 0.9\n",
    "\n",
    "    nextStates = {}\n",
    "    for si in range(len(S)):\n",
    "        for ai in range(len(A)):\n",
    "            nextStates[(si,ai)] = np.where((T[si, ai, :] != 0) == True)[0]\n",
    "    \n",
    "    return {'S':S, 'A':A, 'T':T, 'R':R, 'discount':discount, 'nextStates':nextStates, 'gridPlot':gridPlot, 'xy2s':xy2s, 's2xy':s2xy}"
   ]
  },
  {
   "cell_type": "code",
   "execution_count": null,
   "metadata": {
    "id": "BylriiRqsAvv"
   },
   "outputs": [],
   "source": [
    "class MDP():\n",
    "    def __init__(self):\n",
    "        pass\n",
    "        \n",
    "    def inbuilt_init(self, mdp_dict):\n",
    "        self.S = mdp_dict['S']\n",
    "        self.A = mdp_dict['A']\n",
    "        self.T = mdp_dict['T']\n",
    "        self.R = mdp_dict['R']\n",
    "        self.discount = mdp_dict['discount']\n",
    "        self.nextStates = mdp_dict['nextStates']\n",
    "        self.gridPlot = mdp_dict['gridPlot']\n",
    "        self.xy2s = mdp_dict['xy2s']\n",
    "        self.s2xy = mdp_dict['s2xy']"
   ]
  },
  {
   "cell_type": "code",
   "execution_count": null,
   "metadata": {
    "colab": {
     "base_uri": "https://localhost:8080/",
     "height": 822
    },
    "id": "QGcCuJpasAvy",
    "outputId": "9fe5a3b2-3d6c-4081-ea79-2b54acd48511"
   },
   "outputs": [
    {
     "data": {
      "image/png": "[encoded data removed]",
      "text/plain": [
       "<Figure size 216x216 with 2 Axes>"
      ]
     },
     "metadata": {
      "needs_background": "light",
      "tags": []
     },
     "output_type": "display_data"
    },
    {
     "data": {
      "image/png": "[encoded data removed]",
      "text/plain": [
       "<Figure size 1080x216 with 8 Axes>"
      ]
     },
     "metadata": {
      "needs_background": "light",
      "tags": []
     },
     "output_type": "display_data"
    },
    {
     "data": {
      "image/png": "[encoded data removed]",
      "text/plain": [
       "<Figure size 1080x216 with 8 Axes>"
      ]
     },
     "metadata": {
      "needs_background": "light",
      "tags": []
     },
     "output_type": "display_data"
    },
    {
     "data": {
      "image/png": "[encoded data removed]",
      "text/plain": [
       "<Figure size 1080x216 with 8 Axes>"
      ]
     },
     "metadata": {
      "needs_background": "light",
      "tags": []
     },
     "output_type": "display_data"
    }
   ],
   "source": [
    "#Define the MDP\n",
    "mdp = MDP()\n",
    "mdp.inbuilt_init(mdp_dict=createGrid10World())\n",
    "\n",
    "#Plot states\n",
    "pl.figure(figsize=(3,3))\n",
    "mdp.gridPlot(ax=pl.gca(), im=mdp.S.reshape((10,10)), title='States', cmap='Greys')\n",
    "\n",
    "#Plot rewards\n",
    "pl.figure(figsize=(15,3))\n",
    "pl.suptitle('Rewards', fontsize=15)\n",
    "for a in range(4):\n",
    "    pl.subplot(1,4,a+1)\n",
    "    mdp.gridPlot(ax=pl.gca(), im=mdp.R[:,a].reshape((10,10)), title='a='+mdp.A[a], cmap='jet')\n",
    "pl.show()\n",
    "\n",
    "#Plot rewards\n",
    "pl.figure(figsize=(15,3))\n",
    "pl.suptitle('Rewards - clipped larger +ve values for visualizing the edges', fontsize=15)\n",
    "for a in range(4):\n",
    "    pl.subplot(1,4,a+1)\n",
    "    mdp.gridPlot(ax=pl.gca(), im=np.clip(mdp.R[:,a].reshape((10,10)), -1, -0.5), title='a='+mdp.A[a], cmap='jet')\n",
    "pl.show()\n",
    "\n",
    "#Plot rewards\n",
    "s0_x, s0_y = 3, 5\n",
    "s0 = mdp.xy2s(s0_x, s0_y)\n",
    "pl.figure(figsize=(15,3))\n",
    "pl.suptitle('Transition probabilities T(s1|s0=({},{}),a)'.format(s0_x, s0_y), fontsize=15)\n",
    "for a in range(4):\n",
    "    pl.subplot(1,4,a+1)\n",
    "    mdp.gridPlot(ax=pl.gca(), im=mdp.T[s0,a,:].reshape((10,10)), title='a='+mdp.A[a], cmap='Blues')\n",
    "pl.show()"
   ]
  },
  {
   "cell_type": "code",
   "execution_count": null,
   "metadata": {
    "colab": {
     "base_uri": "https://localhost:8080/",
     "height": 464,
     "referenced_widgets": [
      "0b564e4ce4164437b4d0b8841fa2c696",
      "187510995f984798b2d31f2de04a6955",
      "ef8cfaba49a8459e8d39cdf95961860d",
      "90344cb17ee14b4592420656dd262769",
      "7b8ec26e4024476d9971099941e6f007",
      "82c6824b2e414a079c84709163602d7d",
      "b9e84c714cee484c844b84631c3dbf97",
      "4267adc9b60649d485c67867bdf38631",
      "f9baa27da4264b579f92b4d08c78f8e1",
      "3a68a2cc6aff4d9c8fd780682fbe1c49",
      "e159ee5f6a2b4bc4b5737133669adde1",
      "6273612cc30847e3a75b9f8e030c248a",
      "1dfacab59391467ab795c575895e6d54"
     ]
    },
    "id": "WSh9F6O2sAv1",
    "outputId": "bfc00cc0-af52-42ee-9065-6a1e43cadc23"
   },
   "outputs": [
    {
     "data": {
      "application/vnd.jupyter.widget-view+json": {
       "model_id": "0b564e4ce4164437b4d0b8841fa2c696",
       "version_major": 2,
       "version_minor": 0
      },
      "text/plain": [
       "interactive(children=(Text(value='4', description='s0_x'), Text(value='5', description='s0_y'), ToggleButtons(…"
      ]
     },
     "metadata": {
      "tags": []
     },
     "output_type": "display_data"
    }
   ],
   "source": [
    "#An interactive plot of transition probabilities\n",
    "def f(s0_x, s0_y, action):\n",
    "    a = mdp.A.index(action)\n",
    "    s0 = mdp.xy2s(int(s0_x), int(s0_y))\n",
    "    pl.figure(figsize=(6,6))\n",
    "    title = 'Transition probabilities T(s1|s0=({},{}),a={})'.format(int(s0_x),int(s0_y),action)\n",
    "    mdp.gridPlot(ax=pl.gca(), im=mdp.T[s0,a,:].reshape((10,10)), title=title, cmap='Blues')\n",
    "    pl.show()\n",
    "\n",
    "interactive_plot = interactive(f, s0_x='4', s0_y='5', action=widgets.ToggleButtons(options=['left', 'right', 'up', 'down']))\n",
    "interactive_plot"
   ]
  },
  {
   "cell_type": "markdown",
   "metadata": {
    "id": "CRtcTdgOsAv4"
   },
   "source": [
    "### 1. Policy evaluation\n",
    "\n",
    "Computing the utility, U.\n",
    "\n",
    "$U^\\pi_k(s) = R(s, \\pi(s)) + \\gamma \\sum_{s'} T(s' \\mid s, \\pi(s))U^\\pi_{k-1}(s')$"
   ]
  },
  {
   "cell_type": "code",
   "execution_count": null,
   "metadata": {
    "colab": {
     "base_uri": "https://localhost:8080/",
     "height": 224
    },
    "id": "cT2yS--rsAv4",
    "outputId": "3ecbe5d0-bfcf-4ab3-9a4e-d165d3d5adb3"
   },
   "outputs": [
    {
     "data": {
      "image/png": "[encoded data removed]",
      "text/plain": [
       "<Figure size 1080x216 with 8 Axes>"
      ]
     },
     "metadata": {
      "needs_background": "light",
      "tags": []
     },
     "output_type": "display_data"
    }
   ],
   "source": [
    "def iterativePolicyEvaluation(mdp, policy, numIterations=10):\n",
    "    U = np.zeros(len(mdp.S))\n",
    "    U_old = copy.copy(U)\n",
    "    for t in range(numIterations):\n",
    "        #type your code here\n",
    "    return U\n",
    "\n",
    "numIterations = 5\n",
    "pl.figure(figsize=(15,3))\n",
    "pl.suptitle('Utilities', fontsize=15)\n",
    "for a in range(4):\n",
    "    pl.subplot(1,4,a+1)\n",
    "    U = iterativePolicyEvaluation(mdp=mdp, policy=a, numIterations=numIterations)\n",
    "    mdp.gridPlot(ax=pl.gca(), im=U.reshape(10,10), title='a='+mdp.A[a], cmap='jet')\n",
    "pl.show()\n",
    "#print(np.round(U.reshape(10,10),3))"
   ]
  },
  {
   "cell_type": "code",
   "execution_count": null,
   "metadata": {
    "colab": {
     "base_uri": "https://localhost:8080/",
     "height": 269,
     "referenced_widgets": [
      "5bfd3532c91949288f7435de2608f83c",
      "4df6ea0d2ab24106ac1c2b45b70950be",
      "9d4e973ac8d948e7b401a48a029333c1",
      "7497ff19045848a4b6c4c2b7f5543f05",
      "62f001e114ca4ee090f4b4c67927e996",
      "d5a048e168944ba595c6a484b7e93ee9",
      "fddb1e8b5bf74e709436b154595c1fcd",
      "4152bea45aeb4e48abfe886779135b14",
      "892f91a6fe694c2491045d8baa063a07",
      "d95ed9e7a3c6418eb6d621720aeae304"
     ]
    },
    "id": "XcMijKgbsAv7",
    "outputId": "89ca3cb9-c897-4e40-b741-3598c5d7e82c"
   },
   "outputs": [
    {
     "data": {
      "application/vnd.jupyter.widget-view+json": {
       "model_id": "5bfd3532c91949288f7435de2608f83c",
       "version_major": 2,
       "version_minor": 0
      },
      "text/plain": [
       "interactive(children=(ToggleButtons(description='action', options=('left', 'right', 'up', 'down'), value='left…"
      ]
     },
     "metadata": {
      "tags": []
     },
     "output_type": "display_data"
    }
   ],
   "source": [
    "def f(action, numIter=1):  \n",
    "    U = iterativePolicyEvaluation(mdp, policy=mdp.A.index(action), numIterations=numIter)\n",
    "    pl.figure(figsize=(3,3))\n",
    "    mdp.gridPlot(ax=pl.gca(), im=U.reshape(10,10), title='Utility', cmap='jet')\n",
    "    pl.show()\n",
    "\n",
    "interactive_plot = interactive(f, action=widgets.ToggleButtons(options=['left', 'right', 'up', 'down']),\n",
    "                               numIter=widgets.IntSlider(min=0, max=20, step=1, value=0))\n",
    "interactive_plot"
   ]
  },
  {
   "cell_type": "code",
   "execution_count": null,
   "metadata": {
    "colab": {
     "base_uri": "https://localhost:8080/",
     "height": 204
    },
    "id": "-L8qvyKAsAv9",
    "outputId": "cfce854d-933f-4c08-c7d5-f81f6852e570"
   },
   "outputs": [
    {
     "data": {
      "image/png": "[encoded data removed]",
      "text/plain": [
       "<Figure size 216x216 with 2 Axes>"
      ]
     },
     "metadata": {
      "needs_background": "light",
      "tags": []
     },
     "output_type": "display_data"
    }
   ],
   "source": [
    "#Value iteration\n",
    "def valueIteration(mdp, numIterations=1):\n",
    "    U = np.zeros(len(mdp.S))\n",
    "    U_old = copy.copy(U)\n",
    "    for t in range(numIterations):\n",
    "        f#type your code here\n",
    "    return U\n",
    "\n",
    "def policyExtration(mdp, U):\n",
    "    policy = np.zeros(len(mdp.S))\n",
    "    #type your code here\n",
    "    return policy\n",
    "\n",
    "U = valueIteration(mdp, numIterations=2)\n",
    "policy = policyExtration(mdp, U=U)\n",
    "pl.figure(figsize=(3,3))\n",
    "mdp.gridPlot(ax=pl.gca(), im=U.reshape(10,10), title='Utility', cmap='jet')\n",
    "for s in range(100):\n",
    "    x, y = mdp.s2xy(s)\n",
    "    if policy[s] == 0:\n",
    "        m='\\u02C2'\n",
    "    elif policy[s] == 1:\n",
    "        m='\\u02C3'\n",
    "    elif policy[s] == 2:\n",
    "        m='\\u02C4'\n",
    "    elif policy[s] == 3:\n",
    "        m='\\u02C5'\n",
    "    pl.text(x-0.5,y-1,m,color='k',size=20)\n",
    "pl.show()"
   ]
  },
  {
   "cell_type": "code",
   "execution_count": null,
   "metadata": {
    "colab": {
     "base_uri": "https://localhost:8080/",
     "height": 250,
     "referenced_widgets": [
      "b4b68c77bd10486583d85ff7dfb4c1b3",
      "f76eb29faf0d42ffad04dad74a0f3c30",
      "74cc0a30f72a4b1bba3ed0cd3b8bc688",
      "147b601574034dbc9d61a39b89df4724",
      "7fcfd4b3037e43cc97aab46fd81435ba",
      "34a6a2a4506441cdb8618cdc45e9c4e8",
      "8f7140557f8c48ab8b68338ca7b49821"
     ]
    },
    "id": "W7Hvi7YdsAv_",
    "outputId": "faed5248-4785-4148-e966-d0fe91816094"
   },
   "outputs": [
    {
     "data": {
      "application/vnd.jupyter.widget-view+json": {
       "model_id": "b4b68c77bd10486583d85ff7dfb4c1b3",
       "version_major": 2,
       "version_minor": 0
      },
      "text/plain": [
       "interactive(children=(IntSlider(value=0, description='numIter', max=20), Output()), _dom_classes=('widget-inte…"
      ]
     },
     "metadata": {
      "tags": []
     },
     "output_type": "display_data"
    }
   ],
   "source": [
    "def f(numIter=1):  \n",
    "    start_time = timeit.default_timer()\n",
    "    U = valueIteration(mdp, numIterations=numIter)\n",
    "    policy = policyExtration(mdp, U=U)\n",
    "    elapsed = timeit.default_timer() - start_time\n",
    "    print('time=', np.round(elapsed*1000,2))\n",
    "    pl.figure(figsize=(3,3))\n",
    "    mdp.gridPlot(ax=pl.gca(), im=U.reshape(10,10), title='Utility', cmap='jet')\n",
    "    for s in range(100):\n",
    "        x, y = mdp.s2xy(s)\n",
    "        if policy[s] == 0:\n",
    "            m='\\u02C2'\n",
    "        elif policy[s] == 1:\n",
    "            m='\\u02C3'\n",
    "        elif policy[s] == 2:\n",
    "            m='\\u02C4'\n",
    "        elif policy[s] == 3:\n",
    "            m='\\u02C5'\n",
    "        pl.text(x-0.5,y-1,m,color='k',size=20)\n",
    "    pl.show()\n",
    "\n",
    "interactive_plot = interactive(f, numIter=widgets.IntSlider(min=0, max=20, step=1, value=0))\n",
    "interactive_plot"
   ]
  },
  {
   "cell_type": "markdown",
   "metadata": {
    "id": "6il1i5CesAwB"
   },
   "source": [
    "### 2. Policy iteration\n",
    "\n",
    "Policy evaluation can be used in policy iteration:\n",
    "1. Given the current policy, compute U\n",
    "2. Using U, compute a new policy"
   ]
  },
  {
   "cell_type": "code",
   "execution_count": null,
   "metadata": {
    "id": "5VzzQB0jsAwC"
   },
   "outputs": [],
   "source": [
    "def policyIteration(mdp, numIterations=1):\n",
    "    U_pi_k = np.zeros(len(mdp.S)) #initial values\n",
    "    pi_k = np.random.randint(low=0,high=4,size=len(mdp.S),dtype=int) #initial policy\n",
    "    pi_kp1 = copy.copy(pi_k)\n",
    "    for t in range(numIterations):\n",
    "        #Policy evaluation: compute U_pi_k\n",
    "          #type your code here\n",
    "        #Policy improvement\n",
    "          #type your code here\n",
    "    return U_pi_k, pi_kp1\n",
    "\n",
    "U_pi_k, pi_kp1 = policyIteration(mdp, numIterations=2)"
   ]
  },
  {
   "cell_type": "code",
   "execution_count": null,
   "metadata": {
    "colab": {
     "base_uri": "https://localhost:8080/",
     "height": 250,
     "referenced_widgets": [
      "8a13c74d0ab54f26804dc9867dac2509",
      "3ff4bab33c3242239a6fcde127aeee66",
      "eb1db9f1466d474cb78392a799b38037",
      "11b6fc4071534633bb3b2669301d8245",
      "e273173433714f5b89a435ef652ef5dc",
      "6b5e6cb1b6c8418abd22f846b361fe69",
      "2b93ba302f0c4b0190af5281b82deabd"
     ]
    },
    "id": "lSHVZ0CwsAwE",
    "outputId": "9c92d88c-542a-4e1c-f61a-2a4ff5c31e97"
   },
   "outputs": [
    {
     "data": {
      "application/vnd.jupyter.widget-view+json": {
       "model_id": "8a13c74d0ab54f26804dc9867dac2509",
       "version_major": 2,
       "version_minor": 0
      },
      "text/plain": [
       "interactive(children=(IntSlider(value=0, description='numIter', max=20), Output()), _dom_classes=('widget-inte…"
      ]
     },
     "metadata": {
      "tags": []
     },
     "output_type": "display_data"
    }
   ],
   "source": [
    "def f(numIter=1):  \n",
    "    start_time = timeit.default_timer()\n",
    "    # code you want to evaluate\n",
    "    value, policy = policyIteration(mdp, numIterations=numIter)\n",
    "    elapsed = timeit.default_timer() - start_time\n",
    "    print('time=', np.round(elapsed*1000,2))\n",
    "    pl.figure(figsize=(3,3))\n",
    "    mdp.gridPlot(ax=pl.gca(), im=value.reshape(10,10), title='Utility', cmap='jet')\n",
    "    for s in range(100):\n",
    "        x, y = mdp.s2xy(s)\n",
    "        if policy[s] == 0:\n",
    "            m='\\u02C2'\n",
    "        elif policy[s] == 1:\n",
    "            m='\\u02C3'\n",
    "        elif policy[s] == 2:\n",
    "            m='\\u02C4'\n",
    "        elif policy[s] == 3:\n",
    "            m='\\u02C5'\n",
    "        pl.text(x-0.5,y-1,m,color='k',size=20)\n",
    "    pl.show()\n",
    "\n",
    "interactive_plot = interactive(f, numIter=widgets.IntSlider(min=0, max=20, step=1, value=0))\n",
    "interactive_plot"
   ]
  }
 ],
 "metadata": {
  "@webio": {
   "lastCommId": "21E8675012EB469B8DD225E5191E1594",
   "lastKernelId": "ec90fbfa-47cf-4656-a1ce-4ca4670e6701"
  },
  "colab": {
   "collapsed_sections": [],
   "provenance": []
  },
  "kernelspec": {
   "display_name": "Python 3",
   "language": "python",
   "name": "python3"
  },
  "language_info": {
   "codemirror_mode": {
    "name": "ipython",
    "version": 3
   },
   "file_extension": ".py",
   "mimetype": "text/x-python",
   "name": "python",
   "nbconvert_exporter": "python",
   "pygments_lexer": "ipython3",
   "version": "3.8.8"
  },
  "widgets": {
   "application/vnd.jupyter.widget-state+json": {
    "0b564e4ce4164437b4d0b8841fa2c696": {
     "model_module": "@jupyter-widgets/controls",
     "model_module_version": "1.5.0",
     "model_name": "VBoxModel",
     "state": {
      "_dom_classes": [
       "widget-interact"
      ],
      "_model_module": "@jupyter-widgets/controls",
      "_model_module_version": "1.5.0",
      "_model_name": "VBoxModel",
      "_view_count": null,
      "_view_module": "@jupyter-widgets/controls",
      "_view_module_version": "1.5.0",
      "_view_name": "VBoxView",
      "box_style": "",
      "children": [
       "IPY_MODEL_ef8cfaba49a8459e8d39cdf95961860d",
       "IPY_MODEL_90344cb17ee14b4592420656dd262769",
       "IPY_MODEL_7b8ec26e4024476d9971099941e6f007",
       "IPY_MODEL_82c6824b2e414a079c84709163602d7d"
      ],
      "layout": "IPY_MODEL_187510995f984798b2d31f2de04a6955"
     }
    },
    "11b6fc4071534633bb3b2669301d8245": {
     "model_module": "@jupyter-widgets/output",
     "model_module_version": "1.0.0",
     "model_name": "OutputModel",
     "state": {
      "_dom_classes": [],
      "_model_module": "@jupyter-widgets/output",
      "_model_module_version": "1.0.0",
      "_model_name": "OutputModel",
      "_view_count": null,
      "_view_module": "@jupyter-widgets/output",
      "_view_module_version": "1.0.0",
      "_view_name": "OutputView",
      "layout": "IPY_MODEL_2b93ba302f0c4b0190af5281b82deabd",
      "msg_id": "",
      "outputs": [
       {
        "metadata": {
         "tags": []
        },
        "output_type": "stream",
        "stream": "stdout",
        "text": "time= 29.8\n"
       },
       {
        "image/png": "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\n",
        "metadata": {
         "needs_background": "light",
         "tags": []
        },
        "output_type": "display_data",
        "text/plain": "<Figure size 216x216 with 2 Axes>"
       }
      ]
     }
    },
    "147b601574034dbc9d61a39b89df4724": {
     "model_module": "@jupyter-widgets/output",
     "model_module_version": "1.0.0",
     "model_name": "OutputModel",
     "state": {
      "_dom_classes": [],
      "_model_module": "@jupyter-widgets/output",
      "_model_module_version": "1.0.0",
      "_model_name": "OutputModel",
      "_view_count": null,
      "_view_module": "@jupyter-widgets/output",
      "_view_module_version": "1.0.0",
      "_view_name": "OutputView",
      "layout": "IPY_MODEL_8f7140557f8c48ab8b68338ca7b49821",
      "msg_id": "",
      "outputs": [
       {
        "metadata": {
         "tags": []
        },
        "output_type": "stream",
        "stream": "stdout",
        "text": "time= 75.74\n"
       },
       {
        "image/png": "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\n",
        "metadata": {
         "needs_background": "light",
         "tags": []
        },
        "output_type": "display_data",
        "text/plain": "<Figure size 216x216 with 2 Axes>"
       }
      ]
     }
    },
    "187510995f984798b2d31f2de04a6955": {
     "model_module": "@jupyter-widgets/base",
     "model_module_version": "1.2.0",
     "model_name": "LayoutModel",
     "state": {
      "_model_module": "@jupyter-widgets/base",
      "_model_module_version": "1.2.0",
      "_model_name": "LayoutModel",
      "_view_count": null,
      "_view_module": "@jupyter-widgets/base",
      "_view_module_version": "1.2.0",
      "_view_name": "LayoutView",
      "align_content": null,
      "align_items": null,
      "align_self": null,
      "border": null,
      "bottom": null,
      "display": null,
      "flex": null,
      "flex_flow": null,
      "grid_area": null,
      "grid_auto_columns": null,
      "grid_auto_flow": null,
      "grid_auto_rows": null,
      "grid_column": null,
      "grid_gap": null,
      "grid_row": null,
      "grid_template_areas": null,
      "grid_template_columns": null,
      "grid_template_rows": null,
      "height": null,
      "justify_content": null,
      "justify_items": null,
      "left": null,
      "margin": null,
      "max_height": null,
      "max_width": null,
      "min_height": null,
      "min_width": null,
      "object_fit": null,
      "object_position": null,
      "order": null,
      "overflow": null,
      "overflow_x": null,
      "overflow_y": null,
      "padding": null,
      "right": null,
      "top": null,
      "visibility": null,
      "width": null
     }
    },
    "1dfacab59391467ab795c575895e6d54": {
     "model_module": "@jupyter-widgets/base",
     "model_module_version": "1.2.0",
     "model_name": "LayoutModel",
     "state": {
      "_model_module": "@jupyter-widgets/base",
      "_model_module_version": "1.2.0",
      "_model_name": "LayoutModel",
      "_view_count": null,
      "_view_module": "@jupyter-widgets/base",
      "_view_module_version": "1.2.0",
      "_view_name": "LayoutView",
      "align_content": null,
      "align_items": null,
      "align_self": null,
      "border": null,
      "bottom": null,
      "display": null,
      "flex": null,
      "flex_flow": null,
      "grid_area": null,
      "grid_auto_columns": null,
      "grid_auto_flow": null,
      "grid_auto_rows": null,
      "grid_column": null,
      "grid_gap": null,
      "grid_row": null,
      "grid_template_areas": null,
      "grid_template_columns": null,
      "grid_template_rows": null,
      "height": null,
      "justify_content": null,
      "justify_items": null,
      "left": null,
      "margin": null,
      "max_height": null,
      "max_width": null,
      "min_height": null,
      "min_width": null,
      "object_fit": null,
      "object_position": null,
      "order": null,
      "overflow": null,
      "overflow_x": null,
      "overflow_y": null,
      "padding": null,
      "right": null,
      "top": null,
      "visibility": null,
      "width": null
     }
    },
    "2b93ba302f0c4b0190af5281b82deabd": {
     "model_module": "@jupyter-widgets/base",
     "model_module_version": "1.2.0",
     "model_name": "LayoutModel",
     "state": {
      "_model_module": "@jupyter-widgets/base",
      "_model_module_version": "1.2.0",
      "_model_name": "LayoutModel",
      "_view_count": null,
      "_view_module": "@jupyter-widgets/base",
      "_view_module_version": "1.2.0",
      "_view_name": "LayoutView",
      "align_content": null,
      "align_items": null,
      "align_self": null,
      "border": null,
      "bottom": null,
      "display": null,
      "flex": null,
      "flex_flow": null,
      "grid_area": null,
      "grid_auto_columns": null,
      "grid_auto_flow": null,
      "grid_auto_rows": null,
      "grid_column": null,
      "grid_gap": null,
      "grid_row": null,
      "grid_template_areas": null,
      "grid_template_columns": null,
      "grid_template_rows": null,
      "height": null,
      "justify_content": null,
      "justify_items": null,
      "left": null,
      "margin": null,
      "max_height": null,
      "max_width": null,
      "min_height": null,
      "min_width": null,
      "object_fit": null,
      "object_position": null,
      "order": null,
      "overflow": null,
      "overflow_x": null,
      "overflow_y": null,
      "padding": null,
      "right": null,
      "top": null,
      "visibility": null,
      "width": null
     }
    },
    "34a6a2a4506441cdb8618cdc45e9c4e8": {
     "model_module": "@jupyter-widgets/base",
     "model_module_version": "1.2.0",
     "model_name": "LayoutModel",
     "state": {
      "_model_module": "@jupyter-widgets/base",
      "_model_module_version": "1.2.0",
      "_model_name": "LayoutModel",
      "_view_count": null,
      "_view_module": "@jupyter-widgets/base",
      "_view_module_version": "1.2.0",
      "_view_name": "LayoutView",
      "align_content": null,
      "align_items": null,
      "align_self": null,
      "border": null,
      "bottom": null,
      "display": null,
      "flex": null,
      "flex_flow": null,
      "grid_area": null,
      "grid_auto_columns": null,
      "grid_auto_flow": null,
      "grid_auto_rows": null,
      "grid_column": null,
      "grid_gap": null,
      "grid_row": null,
      "grid_template_areas": null,
      "grid_template_columns": null,
      "grid_template_rows": null,
      "height": null,
      "justify_content": null,
      "justify_items": null,
      "left": null,
      "margin": null,
      "max_height": null,
      "max_width": null,
      "min_height": null,
      "min_width": null,
      "object_fit": null,
      "object_position": null,
      "order": null,
      "overflow": null,
      "overflow_x": null,
      "overflow_y": null,
      "padding": null,
      "right": null,
      "top": null,
      "visibility": null,
      "width": null
     }
    },
    "3a68a2cc6aff4d9c8fd780682fbe1c49": {
     "model_module": "@jupyter-widgets/base",
     "model_module_version": "1.2.0",
     "model_name": "LayoutModel",
     "state": {
      "_model_module": "@jupyter-widgets/base",
      "_model_module_version": "1.2.0",
      "_model_name": "LayoutModel",
      "_view_count": null,
      "_view_module": "@jupyter-widgets/base",
      "_view_module_version": "1.2.0",
      "_view_name": "LayoutView",
      "align_content": null,
      "align_items": null,
      "align_self": null,
      "border": null,
      "bottom": null,
      "display": null,
      "flex": null,
      "flex_flow": null,
      "grid_area": null,
      "grid_auto_columns": null,
      "grid_auto_flow": null,
      "grid_auto_rows": null,
      "grid_column": null,
      "grid_gap": null,
      "grid_row": null,
      "grid_template_areas": null,
      "grid_template_columns": null,
      "grid_template_rows": null,
      "height": null,
      "justify_content": null,
      "justify_items": null,
      "left": null,
      "margin": null,
      "max_height": null,
      "max_width": null,
      "min_height": null,
      "min_width": null,
      "object_fit": null,
      "object_position": null,
      "order": null,
      "overflow": null,
      "overflow_x": null,
      "overflow_y": null,
      "padding": null,
      "right": null,
      "top": null,
      "visibility": null,
      "width": null
     }
    },
    "3ff4bab33c3242239a6fcde127aeee66": {
     "model_module": "@jupyter-widgets/base",
     "model_module_version": "1.2.0",
     "model_name": "LayoutModel",
     "state": {
      "_model_module": "@jupyter-widgets/base",
      "_model_module_version": "1.2.0",
      "_model_name": "LayoutModel",
      "_view_count": null,
      "_view_module": "@jupyter-widgets/base",
      "_view_module_version": "1.2.0",
      "_view_name": "LayoutView",
      "align_content": null,
      "align_items": null,
      "align_self": null,
      "border": null,
      "bottom": null,
      "display": null,
      "flex": null,
      "flex_flow": null,
      "grid_area": null,
      "grid_auto_columns": null,
      "grid_auto_flow": null,
      "grid_auto_rows": null,
      "grid_column": null,
      "grid_gap": null,
      "grid_row": null,
      "grid_template_areas": null,
      "grid_template_columns": null,
      "grid_template_rows": null,
      "height": null,
      "justify_content": null,
      "justify_items": null,
      "left": null,
      "margin": null,
      "max_height": null,
      "max_width": null,
      "min_height": null,
      "min_width": null,
      "object_fit": null,
      "object_position": null,
      "order": null,
      "overflow": null,
      "overflow_x": null,
      "overflow_y": null,
      "padding": null,
      "right": null,
      "top": null,
      "visibility": null,
      "width": null
     }
    },
    "4152bea45aeb4e48abfe886779135b14": {
     "model_module": "@jupyter-widgets/controls",
     "model_module_version": "1.5.0",
     "model_name": "SliderStyleModel",
     "state": {
      "_model_module": "@jupyter-widgets/controls",
      "_model_module_version": "1.5.0",
      "_model_name": "SliderStyleModel",
      "_view_count": null,
      "_view_module": "@jupyter-widgets/base",
      "_view_module_version": "1.2.0",
      "_view_name": "StyleView",
      "description_width": "",
      "handle_color": null
     }
    },
    "4267adc9b60649d485c67867bdf38631": {
     "model_module": "@jupyter-widgets/base",
     "model_module_version": "1.2.0",
     "model_name": "LayoutModel",
     "state": {
      "_model_module": "@jupyter-widgets/base",
      "_model_module_version": "1.2.0",
      "_model_name": "LayoutModel",
      "_view_count": null,
      "_view_module": "@jupyter-widgets/base",
      "_view_module_version": "1.2.0",
      "_view_name": "LayoutView",
      "align_content": null,
      "align_items": null,
      "align_self": null,
      "border": null,
      "bottom": null,
      "display": null,
      "flex": null,
      "flex_flow": null,
      "grid_area": null,
      "grid_auto_columns": null,
      "grid_auto_flow": null,
      "grid_auto_rows": null,
      "grid_column": null,
      "grid_gap": null,
      "grid_row": null,
      "grid_template_areas": null,
      "grid_template_columns": null,
      "grid_template_rows": null,
      "height": null,
      "justify_content": null,
      "justify_items": null,
      "left": null,
      "margin": null,
      "max_height": null,
      "max_width": null,
      "min_height": null,
      "min_width": null,
      "object_fit": null,
      "object_position": null,
      "order": null,
      "overflow": null,
      "overflow_x": null,
      "overflow_y": null,
      "padding": null,
      "right": null,
      "top": null,
      "visibility": null,
      "width": null
     }
    },
    "4df6ea0d2ab24106ac1c2b45b70950be": {
     "model_module": "@jupyter-widgets/base",
     "model_module_version": "1.2.0",
     "model_name": "LayoutModel",
     "state": {
      "_model_module": "@jupyter-widgets/base",
      "_model_module_version": "1.2.0",
      "_model_name": "LayoutModel",
      "_view_count": null,
      "_view_module": "@jupyter-widgets/base",
      "_view_module_version": "1.2.0",
      "_view_name": "LayoutView",
      "align_content": null,
      "align_items": null,
      "align_self": null,
      "border": null,
      "bottom": null,
      "display": null,
      "flex": null,
      "flex_flow": null,
      "grid_area": null,
      "grid_auto_columns": null,
      "grid_auto_flow": null,
      "grid_auto_rows": null,
      "grid_column": null,
      "grid_gap": null,
      "grid_row": null,
      "grid_template_areas": null,
      "grid_template_columns": null,
      "grid_template_rows": null,
      "height": null,
      "justify_content": null,
      "justify_items": null,
      "left": null,
      "margin": null,
      "max_height": null,
      "max_width": null,
      "min_height": null,
      "min_width": null,
      "object_fit": null,
      "object_position": null,
      "order": null,
      "overflow": null,
      "overflow_x": null,
      "overflow_y": null,
      "padding": null,
      "right": null,
      "top": null,
      "visibility": null,
      "width": null
     }
    },
    "5bfd3532c91949288f7435de2608f83c": {
     "model_module": "@jupyter-widgets/controls",
     "model_module_version": "1.5.0",
     "model_name": "VBoxModel",
     "state": {
      "_dom_classes": [
       "widget-interact"
      ],
      "_model_module": "@jupyter-widgets/controls",
      "_model_module_version": "1.5.0",
      "_model_name": "VBoxModel",
      "_view_count": null,
      "_view_module": "@jupyter-widgets/controls",
      "_view_module_version": "1.5.0",
      "_view_name": "VBoxView",
      "box_style": "",
      "children": [
       "IPY_MODEL_9d4e973ac8d948e7b401a48a029333c1",
       "IPY_MODEL_7497ff19045848a4b6c4c2b7f5543f05",
       "IPY_MODEL_62f001e114ca4ee090f4b4c67927e996"
      ],
      "layout": "IPY_MODEL_4df6ea0d2ab24106ac1c2b45b70950be"
     }
    },
    "6273612cc30847e3a75b9f8e030c248a": {
     "model_module": "@jupyter-widgets/base",
     "model_module_version": "1.2.0",
     "model_name": "LayoutModel",
     "state": {
      "_model_module": "@jupyter-widgets/base",
      "_model_module_version": "1.2.0",
      "_model_name": "LayoutModel",
      "_view_count": null,
      "_view_module": "@jupyter-widgets/base",
      "_view_module_version": "1.2.0",
      "_view_name": "LayoutView",
      "align_content": null,
      "align_items": null,
      "align_self": null,
      "border": null,
      "bottom": null,
      "display": null,
      "flex": null,
      "flex_flow": null,
      "grid_area": null,
      "grid_auto_columns": null,
      "grid_auto_flow": null,
      "grid_auto_rows": null,
      "grid_column": null,
      "grid_gap": null,
      "grid_row": null,
      "grid_template_areas": null,
      "grid_template_columns": null,
      "grid_template_rows": null,
      "height": null,
      "justify_content": null,
      "justify_items": null,
      "left": null,
      "margin": null,
      "max_height": null,
      "max_width": null,
      "min_height": null,
      "min_width": null,
      "object_fit": null,
      "object_position": null,
      "order": null,
      "overflow": null,
      "overflow_x": null,
      "overflow_y": null,
      "padding": null,
      "right": null,
      "top": null,
      "visibility": null,
      "width": null
     }
    },
    "62f001e114ca4ee090f4b4c67927e996": {
     "model_module": "@jupyter-widgets/output",
     "model_module_version": "1.0.0",
     "model_name": "OutputModel",
     "state": {
      "_dom_classes": [],
      "_model_module": "@jupyter-widgets/output",
      "_model_module_version": "1.0.0",
      "_model_name": "OutputModel",
      "_view_count": null,
      "_view_module": "@jupyter-widgets/output",
      "_view_module_version": "1.0.0",
      "_view_name": "OutputView",
      "layout": "IPY_MODEL_d95ed9e7a3c6418eb6d621720aeae304",
      "msg_id": "",
      "outputs": [
       {
        "image/png": "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\n",
        "metadata": {
         "needs_background": "light",
         "tags": []
        },
        "output_type": "display_data",
        "text/plain": "<Figure size 216x216 with 2 Axes>"
       }
      ]
     }
    },
    "6b5e6cb1b6c8418abd22f846b361fe69": {
     "model_module": "@jupyter-widgets/base",
     "model_module_version": "1.2.0",
     "model_name": "LayoutModel",
     "state": {
      "_model_module": "@jupyter-widgets/base",
      "_model_module_version": "1.2.0",
      "_model_name": "LayoutModel",
      "_view_count": null,
      "_view_module": "@jupyter-widgets/base",
      "_view_module_version": "1.2.0",
      "_view_name": "LayoutView",
      "align_content": null,
      "align_items": null,
      "align_self": null,
      "border": null,
      "bottom": null,
      "display": null,
      "flex": null,
      "flex_flow": null,
      "grid_area": null,
      "grid_auto_columns": null,
      "grid_auto_flow": null,
      "grid_auto_rows": null,
      "grid_column": null,
      "grid_gap": null,
      "grid_row": null,
      "grid_template_areas": null,
      "grid_template_columns": null,
      "grid_template_rows": null,
      "height": null,
      "justify_content": null,
      "justify_items": null,
      "left": null,
      "margin": null,
      "max_height": null,
      "max_width": null,
      "min_height": null,
      "min_width": null,
      "object_fit": null,
      "object_position": null,
      "order": null,
      "overflow": null,
      "overflow_x": null,
      "overflow_y": null,
      "padding": null,
      "right": null,
      "top": null,
      "visibility": null,
      "width": null
     }
    },
    "7497ff19045848a4b6c4c2b7f5543f05": {
     "model_module": "@jupyter-widgets/controls",
     "model_module_version": "1.5.0",
     "model_name": "IntSliderModel",
     "state": {
      "_dom_classes": [],
      "_model_module": "@jupyter-widgets/controls",
      "_model_module_version": "1.5.0",
      "_model_name": "IntSliderModel",
      "_view_count": null,
      "_view_module": "@jupyter-widgets/controls",
      "_view_module_version": "1.5.0",
      "_view_name": "IntSliderView",
      "continuous_update": true,
      "description": "numIter",
      "description_tooltip": null,
      "disabled": false,
      "layout": "IPY_MODEL_892f91a6fe694c2491045d8baa063a07",
      "max": 20,
      "min": 0,
      "orientation": "horizontal",
      "readout": true,
      "readout_format": "d",
      "step": 1,
      "style": "IPY_MODEL_4152bea45aeb4e48abfe886779135b14",
      "value": 0
     }
    },
    "74cc0a30f72a4b1bba3ed0cd3b8bc688": {
     "model_module": "@jupyter-widgets/controls",
     "model_module_version": "1.5.0",
     "model_name": "IntSliderModel",
     "state": {
      "_dom_classes": [],
      "_model_module": "@jupyter-widgets/controls",
      "_model_module_version": "1.5.0",
      "_model_name": "IntSliderModel",
      "_view_count": null,
      "_view_module": "@jupyter-widgets/controls",
      "_view_module_version": "1.5.0",
      "_view_name": "IntSliderView",
      "continuous_update": true,
      "description": "numIter",
      "description_tooltip": null,
      "disabled": false,
      "layout": "IPY_MODEL_34a6a2a4506441cdb8618cdc45e9c4e8",
      "max": 20,
      "min": 0,
      "orientation": "horizontal",
      "readout": true,
      "readout_format": "d",
      "step": 1,
      "style": "IPY_MODEL_7fcfd4b3037e43cc97aab46fd81435ba",
      "value": 10
     }
    },
    "7b8ec26e4024476d9971099941e6f007": {
     "model_module": "@jupyter-widgets/controls",
     "model_module_version": "1.5.0",
     "model_name": "ToggleButtonsModel",
     "state": {
      "_dom_classes": [],
      "_model_module": "@jupyter-widgets/controls",
      "_model_module_version": "1.5.0",
      "_model_name": "ToggleButtonsModel",
      "_options_labels": [
       "left",
       "right",
       "up",
       "down"
      ],
      "_view_count": null,
      "_view_module": "@jupyter-widgets/controls",
      "_view_module_version": "1.5.0",
      "_view_name": "ToggleButtonsView",
      "button_style": "",
      "description": "action",
      "description_tooltip": null,
      "disabled": false,
      "icons": [],
      "index": 0,
      "layout": "IPY_MODEL_6273612cc30847e3a75b9f8e030c248a",
      "style": "IPY_MODEL_e159ee5f6a2b4bc4b5737133669adde1",
      "tooltips": []
     }
    },
    "7fcfd4b3037e43cc97aab46fd81435ba": {
     "model_module": "@jupyter-widgets/controls",
     "model_module_version": "1.5.0",
     "model_name": "SliderStyleModel",
     "state": {
      "_model_module": "@jupyter-widgets/controls",
      "_model_module_version": "1.5.0",
      "_model_name": "SliderStyleModel",
      "_view_count": null,
      "_view_module": "@jupyter-widgets/base",
      "_view_module_version": "1.2.0",
      "_view_name": "StyleView",
      "description_width": "",
      "handle_color": null
     }
    },
    "82c6824b2e414a079c84709163602d7d": {
     "model_module": "@jupyter-widgets/output",
     "model_module_version": "1.0.0",
     "model_name": "OutputModel",
     "state": {
      "_dom_classes": [],
      "_model_module": "@jupyter-widgets/output",
      "_model_module_version": "1.0.0",
      "_model_name": "OutputModel",
      "_view_count": null,
      "_view_module": "@jupyter-widgets/output",
      "_view_module_version": "1.0.0",
      "_view_name": "OutputView",
      "layout": "IPY_MODEL_1dfacab59391467ab795c575895e6d54",
      "msg_id": "",
      "outputs": [
       {
        "image/png": "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\n",
        "metadata": {
         "needs_background": "light",
         "tags": []
        },
        "output_type": "display_data",
        "text/plain": "<Figure size 432x432 with 2 Axes>"
       }
      ]
     }
    },
    "892f91a6fe694c2491045d8baa063a07": {
     "model_module": "@jupyter-widgets/base",
     "model_module_version": "1.2.0",
     "model_name": "LayoutModel",
     "state": {
      "_model_module": "@jupyter-widgets/base",
      "_model_module_version": "1.2.0",
      "_model_name": "LayoutModel",
      "_view_count": null,
      "_view_module": "@jupyter-widgets/base",
      "_view_module_version": "1.2.0",
      "_view_name": "LayoutView",
      "align_content": null,
      "align_items": null,
      "align_self": null,
      "border": null,
      "bottom": null,
      "display": null,
      "flex": null,
      "flex_flow": null,
      "grid_area": null,
      "grid_auto_columns": null,
      "grid_auto_flow": null,
      "grid_auto_rows": null,
      "grid_column": null,
      "grid_gap": null,
      "grid_row": null,
      "grid_template_areas": null,
      "grid_template_columns": null,
      "grid_template_rows": null,
      "height": null,
      "justify_content": null,
      "justify_items": null,
      "left": null,
      "margin": null,
      "max_height": null,
      "max_width": null,
      "min_height": null,
      "min_width": null,
      "object_fit": null,
      "object_position": null,
      "order": null,
      "overflow": null,
      "overflow_x": null,
      "overflow_y": null,
      "padding": null,
      "right": null,
      "top": null,
      "visibility": null,
      "width": null
     }
    },
    "8a13c74d0ab54f26804dc9867dac2509": {
     "model_module": "@jupyter-widgets/controls",
     "model_module_version": "1.5.0",
     "model_name": "VBoxModel",
     "state": {
      "_dom_classes": [
       "widget-interact"
      ],
      "_model_module": "@jupyter-widgets/controls",
      "_model_module_version": "1.5.0",
      "_model_name": "VBoxModel",
      "_view_count": null,
      "_view_module": "@jupyter-widgets/controls",
      "_view_module_version": "1.5.0",
      "_view_name": "VBoxView",
      "box_style": "",
      "children": [
       "IPY_MODEL_eb1db9f1466d474cb78392a799b38037",
       "IPY_MODEL_11b6fc4071534633bb3b2669301d8245"
      ],
      "layout": "IPY_MODEL_3ff4bab33c3242239a6fcde127aeee66"
     }
    },
    "8f7140557f8c48ab8b68338ca7b49821": {
     "model_module": "@jupyter-widgets/base",
     "model_module_version": "1.2.0",
     "model_name": "LayoutModel",
     "state": {
      "_model_module": "@jupyter-widgets/base",
      "_model_module_version": "1.2.0",
      "_model_name": "LayoutModel",
      "_view_count": null,
      "_view_module": "@jupyter-widgets/base",
      "_view_module_version": "1.2.0",
      "_view_name": "LayoutView",
      "align_content": null,
      "align_items": null,
      "align_self": null,
      "border": null,
      "bottom": null,
      "display": null,
      "flex": null,
      "flex_flow": null,
      "grid_area": null,
      "grid_auto_columns": null,
      "grid_auto_flow": null,
      "grid_auto_rows": null,
      "grid_column": null,
      "grid_gap": null,
      "grid_row": null,
      "grid_template_areas": null,
      "grid_template_columns": null,
      "grid_template_rows": null,
      "height": null,
      "justify_content": null,
      "justify_items": null,
      "left": null,
      "margin": null,
      "max_height": null,
      "max_width": null,
      "min_height": null,
      "min_width": null,
      "object_fit": null,
      "object_position": null,
      "order": null,
      "overflow": null,
      "overflow_x": null,
      "overflow_y": null,
      "padding": null,
      "right": null,
      "top": null,
      "visibility": null,
      "width": null
     }
    },
    "90344cb17ee14b4592420656dd262769": {
     "model_module": "@jupyter-widgets/controls",
     "model_module_version": "1.5.0",
     "model_name": "TextModel",
     "state": {
      "_dom_classes": [],
      "_model_module": "@jupyter-widgets/controls",
      "_model_module_version": "1.5.0",
      "_model_name": "TextModel",
      "_view_count": null,
      "_view_module": "@jupyter-widgets/controls",
      "_view_module_version": "1.5.0",
      "_view_name": "TextView",
      "continuous_update": true,
      "description": "s0_y",
      "description_tooltip": null,
      "disabled": false,
      "layout": "IPY_MODEL_3a68a2cc6aff4d9c8fd780682fbe1c49",
      "placeholder": "​",
      "style": "IPY_MODEL_f9baa27da4264b579f92b4d08c78f8e1",
      "value": "5"
     }
    },
    "9d4e973ac8d948e7b401a48a029333c1": {
     "model_module": "@jupyter-widgets/controls",
     "model_module_version": "1.5.0",
     "model_name": "ToggleButtonsModel",
     "state": {
      "_dom_classes": [],
      "_model_module": "@jupyter-widgets/controls",
      "_model_module_version": "1.5.0",
      "_model_name": "ToggleButtonsModel",
      "_options_labels": [
       "left",
       "right",
       "up",
       "down"
      ],
      "_view_count": null,
      "_view_module": "@jupyter-widgets/controls",
      "_view_module_version": "1.5.0",
      "_view_name": "ToggleButtonsView",
      "button_style": "",
      "description": "action",
      "description_tooltip": null,
      "disabled": false,
      "icons": [],
      "index": 0,
      "layout": "IPY_MODEL_fddb1e8b5bf74e709436b154595c1fcd",
      "style": "IPY_MODEL_d5a048e168944ba595c6a484b7e93ee9",
      "tooltips": []
     }
    },
    "b4b68c77bd10486583d85ff7dfb4c1b3": {
     "model_module": "@jupyter-widgets/controls",
     "model_module_version": "1.5.0",
     "model_name": "VBoxModel",
     "state": {
      "_dom_classes": [
       "widget-interact"
      ],
      "_model_module": "@jupyter-widgets/controls",
      "_model_module_version": "1.5.0",
      "_model_name": "VBoxModel",
      "_view_count": null,
      "_view_module": "@jupyter-widgets/controls",
      "_view_module_version": "1.5.0",
      "_view_name": "VBoxView",
      "box_style": "",
      "children": [
       "IPY_MODEL_74cc0a30f72a4b1bba3ed0cd3b8bc688",
       "IPY_MODEL_147b601574034dbc9d61a39b89df4724"
      ],
      "layout": "IPY_MODEL_f76eb29faf0d42ffad04dad74a0f3c30"
     }
    },
    "b9e84c714cee484c844b84631c3dbf97": {
     "model_module": "@jupyter-widgets/controls",
     "model_module_version": "1.5.0",
     "model_name": "DescriptionStyleModel",
     "state": {
      "_model_module": "@jupyter-widgets/controls",
      "_model_module_version": "1.5.0",
      "_model_name": "DescriptionStyleModel",
      "_view_count": null,
      "_view_module": "@jupyter-widgets/base",
      "_view_module_version": "1.2.0",
      "_view_name": "StyleView",
      "description_width": ""
     }
    },
    "d5a048e168944ba595c6a484b7e93ee9": {
     "model_module": "@jupyter-widgets/controls",
     "model_module_version": "1.5.0",
     "model_name": "ToggleButtonsStyleModel",
     "state": {
      "_model_module": "@jupyter-widgets/controls",
      "_model_module_version": "1.5.0",
      "_model_name": "ToggleButtonsStyleModel",
      "_view_count": null,
      "_view_module": "@jupyter-widgets/base",
      "_view_module_version": "1.2.0",
      "_view_name": "StyleView",
      "button_width": "",
      "description_width": "",
      "font_weight": ""
     }
    },
    "d95ed9e7a3c6418eb6d621720aeae304": {
     "model_module": "@jupyter-widgets/base",
     "model_module_version": "1.2.0",
     "model_name": "LayoutModel",
     "state": {
      "_model_module": "@jupyter-widgets/base",
      "_model_module_version": "1.2.0",
      "_model_name": "LayoutModel",
      "_view_count": null,
      "_view_module": "@jupyter-widgets/base",
      "_view_module_version": "1.2.0",
      "_view_name": "LayoutView",
      "align_content": null,
      "align_items": null,
      "align_self": null,
      "border": null,
      "bottom": null,
      "display": null,
      "flex": null,
      "flex_flow": null,
      "grid_area": null,
      "grid_auto_columns": null,
      "grid_auto_flow": null,
      "grid_auto_rows": null,
      "grid_column": null,
      "grid_gap": null,
      "grid_row": null,
      "grid_template_areas": null,
      "grid_template_columns": null,
      "grid_template_rows": null,
      "height": null,
      "justify_content": null,
      "justify_items": null,
      "left": null,
      "margin": null,
      "max_height": null,
      "max_width": null,
      "min_height": null,
      "min_width": null,
      "object_fit": null,
      "object_position": null,
      "order": null,
      "overflow": null,
      "overflow_x": null,
      "overflow_y": null,
      "padding": null,
      "right": null,
      "top": null,
      "visibility": null,
      "width": null
     }
    },
    "e159ee5f6a2b4bc4b5737133669adde1": {
     "model_module": "@jupyter-widgets/controls",
     "model_module_version": "1.5.0",
     "model_name": "ToggleButtonsStyleModel",
     "state": {
      "_model_module": "@jupyter-widgets/controls",
      "_model_module_version": "1.5.0",
      "_model_name": "ToggleButtonsStyleModel",
      "_view_count": null,
      "_view_module": "@jupyter-widgets/base",
      "_view_module_version": "1.2.0",
      "_view_name": "StyleView",
      "button_width": "",
      "description_width": "",
      "font_weight": ""
     }
    },
    "e273173433714f5b89a435ef652ef5dc": {
     "model_module": "@jupyter-widgets/controls",
     "model_module_version": "1.5.0",
     "model_name": "SliderStyleModel",
     "state": {
      "_model_module": "@jupyter-widgets/controls",
      "_model_module_version": "1.5.0",
      "_model_name": "SliderStyleModel",
      "_view_count": null,
      "_view_module": "@jupyter-widgets/base",
      "_view_module_version": "1.2.0",
      "_view_name": "StyleView",
      "description_width": "",
      "handle_color": null
     }
    },
    "eb1db9f1466d474cb78392a799b38037": {
     "model_module": "@jupyter-widgets/controls",
     "model_module_version": "1.5.0",
     "model_name": "IntSliderModel",
     "state": {
      "_dom_classes": [],
      "_model_module": "@jupyter-widgets/controls",
      "_model_module_version": "1.5.0",
      "_model_name": "IntSliderModel",
      "_view_count": null,
      "_view_module": "@jupyter-widgets/controls",
      "_view_module_version": "1.5.0",
      "_view_name": "IntSliderView",
      "continuous_update": true,
      "description": "numIter",
      "description_tooltip": null,
      "disabled": false,
      "layout": "IPY_MODEL_6b5e6cb1b6c8418abd22f846b361fe69",
      "max": 20,
      "min": 0,
      "orientation": "horizontal",
      "readout": true,
      "readout_format": "d",
      "step": 1,
      "style": "IPY_MODEL_e273173433714f5b89a435ef652ef5dc",
      "value": 4
     }
    },
    "ef8cfaba49a8459e8d39cdf95961860d": {
     "model_module": "@jupyter-widgets/controls",
     "model_module_version": "1.5.0",
     "model_name": "TextModel",
     "state": {
      "_dom_classes": [],
      "_model_module": "@jupyter-widgets/controls",
      "_model_module_version": "1.5.0",
      "_model_name": "TextModel",
      "_view_count": null,
      "_view_module": "@jupyter-widgets/controls",
      "_view_module_version": "1.5.0",
      "_view_name": "TextView",
      "continuous_update": true,
      "description": "s0_x",
      "description_tooltip": null,
      "disabled": false,
      "layout": "IPY_MODEL_4267adc9b60649d485c67867bdf38631",
      "placeholder": "​",
      "style": "IPY_MODEL_b9e84c714cee484c844b84631c3dbf97",
      "value": "4"
     }
    },
    "f76eb29faf0d42ffad04dad74a0f3c30": {
     "model_module": "@jupyter-widgets/base",
     "model_module_version": "1.2.0",
     "model_name": "LayoutModel",
     "state": {
      "_model_module": "@jupyter-widgets/base",
      "_model_module_version": "1.2.0",
      "_model_name": "LayoutModel",
      "_view_count": null,
      "_view_module": "@jupyter-widgets/base",
      "_view_module_version": "1.2.0",
      "_view_name": "LayoutView",
      "align_content": null,
      "align_items": null,
      "align_self": null,
      "border": null,
      "bottom": null,
      "display": null,
      "flex": null,
      "flex_flow": null,
      "grid_area": null,
      "grid_auto_columns": null,
      "grid_auto_flow": null,
      "grid_auto_rows": null,
      "grid_column": null,
      "grid_gap": null,
      "grid_row": null,
      "grid_template_areas": null,
      "grid_template_columns": null,
      "grid_template_rows": null,
      "height": null,
      "justify_content": null,
      "justify_items": null,
      "left": null,
      "margin": null,
      "max_height": null,
      "max_width": null,
      "min_height": null,
      "min_width": null,
      "object_fit": null,
      "object_position": null,
      "order": null,
      "overflow": null,
      "overflow_x": null,
      "overflow_y": null,
      "padding": null,
      "right": null,
      "top": null,
      "visibility": null,
      "width": null
     }
    },
    "f9baa27da4264b579f92b4d08c78f8e1": {
     "model_module": "@jupyter-widgets/controls",
     "model_module_version": "1.5.0",
     "model_name": "DescriptionStyleModel",
     "state": {
      "_model_module": "@jupyter-widgets/controls",
      "_model_module_version": "1.5.0",
      "_model_name": "DescriptionStyleModel",
      "_view_count": null,
      "_view_module": "@jupyter-widgets/base",
      "_view_module_version": "1.2.0",
      "_view_name": "StyleView",
      "description_width": ""
     }
    },
    "fddb1e8b5bf74e709436b154595c1fcd": {
     "model_module": "@jupyter-widgets/base",
     "model_module_version": "1.2.0",
     "model_name": "LayoutModel",
     "state": {
      "_model_module": "@jupyter-widgets/base",
      "_model_module_version": "1.2.0",
      "_model_name": "LayoutModel",
      "_view_count": null,
      "_view_module": "@jupyter-widgets/base",
      "_view_module_version": "1.2.0",
      "_view_name": "LayoutView",
      "align_content": null,
      "align_items": null,
      "align_self": null,
      "border": null,
      "bottom": null,
      "display": null,
      "flex": null,
      "flex_flow": null,
      "grid_area": null,
      "grid_auto_columns": null,
      "grid_auto_flow": null,
      "grid_auto_rows": null,
      "grid_column": null,
      "grid_gap": null,
      "grid_row": null,
      "grid_template_areas": null,
      "grid_template_columns": null,
      "grid_template_rows": null,
      "height": null,
      "justify_content": null,
      "justify_items": null,
      "left": null,
      "margin": null,
      "max_height": null,
      "max_width": null,
      "min_height": null,
      "min_width": null,
      "object_fit": null,
      "object_position": null,
      "order": null,
      "overflow": null,
      "overflow_x": null,
      "overflow_y": null,
      "padding": null,
      "right": null,
      "top": null,
      "visibility": null,
      "width": null
     }
    }
   }
  }
 },
 "nbformat": 4,
 "nbformat_minor": 1
}
